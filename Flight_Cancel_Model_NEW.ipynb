{
 "cells": [
  {
   "cell_type": "markdown",
   "metadata": {},
   "source": [
    "# Flight Cancellation Model"
   ]
  },
  {
   "cell_type": "markdown",
   "metadata": {},
   "source": [
    "The dataset includes the following fields.\n",
    "\n",
    "Field            | Name Type | Description\n",
    "-----------------|-----------|----------------------------------\n",
    "Canceled         | Binary    | Canceled = 1\n",
    "Month            | Integer   | Jan = 1\n",
    "DepartureTime    | Integer   | Military Time (1:00 PM = 1300)\n",
    "UniqueCarrier    | String    | Airline Carrier Code\n",
    "SchedElapsedTime | Integer   | Scheduled Flight time in minutes\n",
    "ArrDelay         | Integer   | Arrival delay in minutes\n",
    "DepDelay         | Integer   | Departure delay in minutes\n",
    "Distance         | Integer   | Distance in miles\n",
    "\n",
    "\n",
    "Index:\n",
    "\n",
    "- Importing Libraries & Dataset  \n",
    "- Data Cleaning  \n",
    "- Exploratory Data Analysis\n",
    "- Modeling  \n",
    "    - Random Forest  \n",
    "    - XGBoost  \n",
    "    - Logistic Regression  \n",
    "    - Stacked Model  \n",
    "- Test Function  "
   ]
  },
  {
   "cell_type": "markdown",
   "metadata": {},
   "source": [
    "### Importing Python Libraries"
   ]
  },
  {
   "cell_type": "code",
   "execution_count": 1,
   "metadata": {},
   "outputs": [
    {
     "name": "stdout",
     "output_type": "stream",
     "text": [
      "Operating system version.... Darwin-17.5.0-x86_64-i386-64bit\n",
      "Python version is........... 3.6.6\n",
      "scikit-learn version is..... 0.20.2\n",
      "pandas version is........... 0.23.4\n",
      "numpy version is............ 1.16.0\n",
      "matplotlib version is....... 3.0.2\n"
     ]
    }
   ],
   "source": [
    "# Basic Libraries Import\n",
    "import pandas as pd\n",
    "import numpy as np\n",
    "import os\n",
    "from functools import reduce\n",
    "import pandas_profiling\n",
    "import matplotlib.pyplot as plt\n",
    "%matplotlib inline\n",
    "import seaborn as sns\n",
    "sns.set(style=\"darkgrid\")\n",
    "\n",
    "# ML Libraries Import\n",
    "from imblearn.ensemble import BalancedRandomForestClassifier\n",
    "from sklearn.metrics import balanced_accuracy_score\n",
    "from imblearn.metrics import geometric_mean_score\n",
    "import xgboost as xgb\n",
    "from xgboost import XGBClassifier\n",
    "from sklearn.metrics import accuracy_score\n",
    "from sklearn.metrics import precision_score\n",
    "from sklearn.metrics import confusion_matrix\n",
    "from sklearn.linear_model import LogisticRegressionCV\n",
    "from sklearn.ensemble import RandomForestRegressor, RandomForestClassifier, GradientBoostingRegressor\n",
    "from sklearn.preprocessing import StandardScaler\n",
    "from sklearn.pipeline import make_pipeline\n",
    "from sklearn.preprocessing import RobustScaler\n",
    "from sklearn.model_selection import train_test_split, KFold, cross_val_score, cross_val_predict\n",
    "from sklearn.preprocessing import Imputer, RobustScaler, FunctionTransformer\n",
    "from sklearn.pipeline import make_pipeline\n",
    "from sklearn import model_selection\n",
    "from sklearn.model_selection import GridSearchCV, RandomizedSearchCV\n",
    "from sklearn.linear_model import LogisticRegression\n",
    "from sklearn.metrics import classification_report, confusion_matrix\n",
    "from sklearn.metrics import roc_curve, precision_recall_curve, auc, make_scorer, recall_score, accuracy_score, precision_score, confusion_matrix\n",
    "from sklearn.datasets import load_digits\n",
    "from sklearn.model_selection import learning_curve\n",
    "from sklearn.model_selection import ShuffleSplit\n",
    "from sklearn.model_selection import StratifiedKFold\n",
    "\n",
    "\n",
    "from imblearn.pipeline import make_pipeline as imb_make_pipeline\n",
    "from imblearn.over_sampling import RandomOverSampler, SMOTE\n",
    "from imblearn.under_sampling import RandomUnderSampler\n",
    "from imblearn.ensemble import BalancedBaggingClassifier, EasyEnsemble\n",
    "\n",
    "from scipy import stats\n",
    "\n",
    "\n",
    "import warnings;\n",
    "warnings.filterwarnings('ignore');\n",
    "\n",
    "sns.set_palette(\"husl\")\n",
    "\n",
    "import platform\n",
    "import sys\n",
    "import sklearn\n",
    "from matplotlib import pyplot as plt\n",
    "import matplotlib\n",
    "matplotlib.style.use('ggplot')\n",
    "\n",
    "print('Operating system version....', platform.platform())\n",
    "print(\"Python version is........... %s.%s.%s\" % sys.version_info[:3])\n",
    "print('scikit-learn version is.....', sklearn.__version__)\n",
    "print('pandas version is...........', pd.__version__)\n",
    "print('numpy version is............', np.__version__)\n",
    "print('matplotlib version is.......', matplotlib.__version__)"
   ]
  },
  {
   "cell_type": "markdown",
   "metadata": {},
   "source": [
    "### Importing the Dataset"
   ]
  },
  {
   "cell_type": "code",
   "execution_count": 2,
   "metadata": {},
   "outputs": [],
   "source": [
    "df = pd.read_csv(\"FlightDelays_Data_3.0.csv\")\n"
   ]
  },
  {
   "cell_type": "code",
   "execution_count": 3,
   "metadata": {
    "scrolled": true
   },
   "outputs": [
    {
     "data": {
      "text/html": [
       "<div>\n",
       "<style scoped>\n",
       "    .dataframe tbody tr th:only-of-type {\n",
       "        vertical-align: middle;\n",
       "    }\n",
       "\n",
       "    .dataframe tbody tr th {\n",
       "        vertical-align: top;\n",
       "    }\n",
       "\n",
       "    .dataframe thead th {\n",
       "        text-align: right;\n",
       "    }\n",
       "</style>\n",
       "<table border=\"1\" class=\"dataframe\">\n",
       "  <thead>\n",
       "    <tr style=\"text-align: right;\">\n",
       "      <th></th>\n",
       "      <th>Canceled</th>\n",
       "      <th>Month</th>\n",
       "      <th>DepartureTime</th>\n",
       "      <th>UniqueCarrier</th>\n",
       "      <th>SchedElapsedTime</th>\n",
       "      <th>ArrDelay</th>\n",
       "      <th>DepDelay</th>\n",
       "      <th>Distance</th>\n",
       "    </tr>\n",
       "  </thead>\n",
       "  <tbody>\n",
       "    <tr>\n",
       "      <th>3399</th>\n",
       "      <td>0.0</td>\n",
       "      <td>8</td>\n",
       "      <td>1755</td>\n",
       "      <td>AA</td>\n",
       "      <td>225.0</td>\n",
       "      <td>18.0</td>\n",
       "      <td>20</td>\n",
       "      <td>1576.0</td>\n",
       "    </tr>\n",
       "    <tr>\n",
       "      <th>2707</th>\n",
       "      <td>0.0</td>\n",
       "      <td>12</td>\n",
       "      <td>1429</td>\n",
       "      <td>UA</td>\n",
       "      <td>138.0</td>\n",
       "      <td>-10.0</td>\n",
       "      <td>2</td>\n",
       "      <td>862.0</td>\n",
       "    </tr>\n",
       "    <tr>\n",
       "      <th>814</th>\n",
       "      <td>1.0</td>\n",
       "      <td>7</td>\n",
       "      <td>1004</td>\n",
       "      <td>UA</td>\n",
       "      <td>141.0</td>\n",
       "      <td>0.0</td>\n",
       "      <td>0</td>\n",
       "      <td>888.0</td>\n",
       "    </tr>\n",
       "    <tr>\n",
       "      <th>4409</th>\n",
       "      <td>0.0</td>\n",
       "      <td>9</td>\n",
       "      <td>1910</td>\n",
       "      <td>AA</td>\n",
       "      <td>385.0</td>\n",
       "      <td>35.0</td>\n",
       "      <td>47</td>\n",
       "      <td>2475.0</td>\n",
       "    </tr>\n",
       "    <tr>\n",
       "      <th>2021</th>\n",
       "      <td>0.0</td>\n",
       "      <td>1</td>\n",
       "      <td>1115</td>\n",
       "      <td>AA</td>\n",
       "      <td>145.0</td>\n",
       "      <td>-13.0</td>\n",
       "      <td>-3</td>\n",
       "      <td>920.0</td>\n",
       "    </tr>\n",
       "    <tr>\n",
       "      <th>2253</th>\n",
       "      <td>0.0</td>\n",
       "      <td>4</td>\n",
       "      <td>615</td>\n",
       "      <td>DL</td>\n",
       "      <td>146.0</td>\n",
       "      <td>-7.0</td>\n",
       "      <td>-5</td>\n",
       "      <td>760.0</td>\n",
       "    </tr>\n",
       "    <tr>\n",
       "      <th>1468</th>\n",
       "      <td>0.0</td>\n",
       "      <td>8</td>\n",
       "      <td>750</td>\n",
       "      <td>UA</td>\n",
       "      <td>88.0</td>\n",
       "      <td>3.0</td>\n",
       "      <td>-6</td>\n",
       "      <td>337.0</td>\n",
       "    </tr>\n",
       "    <tr>\n",
       "      <th>1467</th>\n",
       "      <td>0.0</td>\n",
       "      <td>1</td>\n",
       "      <td>1150</td>\n",
       "      <td>AA</td>\n",
       "      <td>210.0</td>\n",
       "      <td>-29.0</td>\n",
       "      <td>-2</td>\n",
       "      <td>1562.0</td>\n",
       "    </tr>\n",
       "    <tr>\n",
       "      <th>1996</th>\n",
       "      <td>0.0</td>\n",
       "      <td>2</td>\n",
       "      <td>1935</td>\n",
       "      <td>AA</td>\n",
       "      <td>150.0</td>\n",
       "      <td>-2.0</td>\n",
       "      <td>6</td>\n",
       "      <td>880.0</td>\n",
       "    </tr>\n",
       "    <tr>\n",
       "      <th>3449</th>\n",
       "      <td>0.0</td>\n",
       "      <td>9</td>\n",
       "      <td>700</td>\n",
       "      <td>DL</td>\n",
       "      <td>253.0</td>\n",
       "      <td>-21.0</td>\n",
       "      <td>-4</td>\n",
       "      <td>1900.0</td>\n",
       "    </tr>\n",
       "  </tbody>\n",
       "</table>\n",
       "</div>"
      ],
      "text/plain": [
       "      Canceled  Month  DepartureTime UniqueCarrier  SchedElapsedTime  \\\n",
       "3399       0.0      8           1755            AA             225.0   \n",
       "2707       0.0     12           1429            UA             138.0   \n",
       "814        1.0      7           1004            UA             141.0   \n",
       "4409       0.0      9           1910            AA             385.0   \n",
       "2021       0.0      1           1115            AA             145.0   \n",
       "2253       0.0      4            615            DL             146.0   \n",
       "1468       0.0      8            750            UA              88.0   \n",
       "1467       0.0      1           1150            AA             210.0   \n",
       "1996       0.0      2           1935            AA             150.0   \n",
       "3449       0.0      9            700            DL             253.0   \n",
       "\n",
       "      ArrDelay  DepDelay  Distance  \n",
       "3399      18.0        20    1576.0  \n",
       "2707     -10.0         2     862.0  \n",
       "814        0.0         0     888.0  \n",
       "4409      35.0        47    2475.0  \n",
       "2021     -13.0        -3     920.0  \n",
       "2253      -7.0        -5     760.0  \n",
       "1468       3.0        -6     337.0  \n",
       "1467     -29.0        -2    1562.0  \n",
       "1996      -2.0         6     880.0  \n",
       "3449     -21.0        -4    1900.0  "
      ]
     },
     "execution_count": 3,
     "metadata": {},
     "output_type": "execute_result"
    }
   ],
   "source": [
    "df.sample(10)"
   ]
  },
  {
   "cell_type": "code",
   "execution_count": 4,
   "metadata": {
    "scrolled": true
   },
   "outputs": [
    {
     "data": {
      "text/html": [
       "<div>\n",
       "<style scoped>\n",
       "    .dataframe tbody tr th:only-of-type {\n",
       "        vertical-align: middle;\n",
       "    }\n",
       "\n",
       "    .dataframe tbody tr th {\n",
       "        vertical-align: top;\n",
       "    }\n",
       "\n",
       "    .dataframe thead th {\n",
       "        text-align: right;\n",
       "    }\n",
       "</style>\n",
       "<table border=\"1\" class=\"dataframe\">\n",
       "  <thead>\n",
       "    <tr style=\"text-align: right;\">\n",
       "      <th></th>\n",
       "      <th>Canceled</th>\n",
       "      <th>Month</th>\n",
       "      <th>DepartureTime</th>\n",
       "      <th>SchedElapsedTime</th>\n",
       "      <th>ArrDelay</th>\n",
       "      <th>DepDelay</th>\n",
       "      <th>Distance</th>\n",
       "    </tr>\n",
       "  </thead>\n",
       "  <tbody>\n",
       "    <tr>\n",
       "      <th>count</th>\n",
       "      <td>5999.000000</td>\n",
       "      <td>6000.000000</td>\n",
       "      <td>6000.000000</td>\n",
       "      <td>5998.000000</td>\n",
       "      <td>5999.000000</td>\n",
       "      <td>6000.000000</td>\n",
       "      <td>5999.000000</td>\n",
       "    </tr>\n",
       "    <tr>\n",
       "      <th>mean</th>\n",
       "      <td>0.166694</td>\n",
       "      <td>6.220167</td>\n",
       "      <td>1330.466500</td>\n",
       "      <td>161.606869</td>\n",
       "      <td>8.108018</td>\n",
       "      <td>9.148833</td>\n",
       "      <td>991.190698</td>\n",
       "    </tr>\n",
       "    <tr>\n",
       "      <th>std</th>\n",
       "      <td>0.372734</td>\n",
       "      <td>3.436325</td>\n",
       "      <td>459.118234</td>\n",
       "      <td>78.155044</td>\n",
       "      <td>35.764033</td>\n",
       "      <td>31.669299</td>\n",
       "      <td>685.685410</td>\n",
       "    </tr>\n",
       "    <tr>\n",
       "      <th>min</th>\n",
       "      <td>0.000000</td>\n",
       "      <td>1.000000</td>\n",
       "      <td>5.000000</td>\n",
       "      <td>-127.000000</td>\n",
       "      <td>-72.000000</td>\n",
       "      <td>-16.000000</td>\n",
       "      <td>-439.000000</td>\n",
       "    </tr>\n",
       "    <tr>\n",
       "      <th>25%</th>\n",
       "      <td>0.000000</td>\n",
       "      <td>3.000000</td>\n",
       "      <td>930.000000</td>\n",
       "      <td>105.000000</td>\n",
       "      <td>-8.000000</td>\n",
       "      <td>-3.000000</td>\n",
       "      <td>547.000000</td>\n",
       "    </tr>\n",
       "    <tr>\n",
       "      <th>50%</th>\n",
       "      <td>0.000000</td>\n",
       "      <td>6.000000</td>\n",
       "      <td>1325.000000</td>\n",
       "      <td>145.000000</td>\n",
       "      <td>0.000000</td>\n",
       "      <td>0.000000</td>\n",
       "      <td>837.000000</td>\n",
       "    </tr>\n",
       "    <tr>\n",
       "      <th>75%</th>\n",
       "      <td>0.000000</td>\n",
       "      <td>9.000000</td>\n",
       "      <td>1715.000000</td>\n",
       "      <td>200.000000</td>\n",
       "      <td>10.000000</td>\n",
       "      <td>6.000000</td>\n",
       "      <td>1249.000000</td>\n",
       "    </tr>\n",
       "    <tr>\n",
       "      <th>max</th>\n",
       "      <td>1.000000</td>\n",
       "      <td>12.000000</td>\n",
       "      <td>2359.000000</td>\n",
       "      <td>604.000000</td>\n",
       "      <td>410.000000</td>\n",
       "      <td>387.000000</td>\n",
       "      <td>15990.000000</td>\n",
       "    </tr>\n",
       "  </tbody>\n",
       "</table>\n",
       "</div>"
      ],
      "text/plain": [
       "          Canceled        Month  DepartureTime  SchedElapsedTime     ArrDelay  \\\n",
       "count  5999.000000  6000.000000    6000.000000       5998.000000  5999.000000   \n",
       "mean      0.166694     6.220167    1330.466500        161.606869     8.108018   \n",
       "std       0.372734     3.436325     459.118234         78.155044    35.764033   \n",
       "min       0.000000     1.000000       5.000000       -127.000000   -72.000000   \n",
       "25%       0.000000     3.000000     930.000000        105.000000    -8.000000   \n",
       "50%       0.000000     6.000000    1325.000000        145.000000     0.000000   \n",
       "75%       0.000000     9.000000    1715.000000        200.000000    10.000000   \n",
       "max       1.000000    12.000000    2359.000000        604.000000   410.000000   \n",
       "\n",
       "          DepDelay      Distance  \n",
       "count  6000.000000   5999.000000  \n",
       "mean      9.148833    991.190698  \n",
       "std      31.669299    685.685410  \n",
       "min     -16.000000   -439.000000  \n",
       "25%      -3.000000    547.000000  \n",
       "50%       0.000000    837.000000  \n",
       "75%       6.000000   1249.000000  \n",
       "max     387.000000  15990.000000  "
      ]
     },
     "execution_count": 4,
     "metadata": {},
     "output_type": "execute_result"
    }
   ],
   "source": [
    "df.describe()"
   ]
  },
  {
   "cell_type": "markdown",
   "metadata": {},
   "source": [
    "From the summary statistics, there are couple things that jump out immediately.  \n",
    "  \n",
    "1- Our target variable 'Canceled' is imbalanced. A balanced dataset would have a mean close to 0.5.  \n",
    "2- Scheduled Elapsed Time min value is negative. Not plausable.  \n",
    "3- Distance min value is negative. Not plausable.  \n",
    "  \n",
    "When starting to work with data, we first need to remove the negative values for the SchedElapsedTime & Distance. And we need to keep the imbalance while modeling."
   ]
  },
  {
   "cell_type": "markdown",
   "metadata": {},
   "source": [
    "### Data Cleaning"
   ]
  },
  {
   "cell_type": "code",
   "execution_count": 5,
   "metadata": {},
   "outputs": [],
   "source": [
    "df = df[df['Distance'] > 0] # Distance can't be less than 0\n",
    "df = df[df['SchedElapsedTime'] > 0] # Flight Time can't be less than 0\n",
    "\n",
    "# There are 12 rows with incorrect times. \n",
    "# We need to get rid of them as they can't be converted to datetime\n",
    "df = df[df['DepartureTime'] >= 100]"
   ]
  },
  {
   "cell_type": "markdown",
   "metadata": {},
   "source": [
    "#### Military Time to Standard time conversion"
   ]
  },
  {
   "cell_type": "code",
   "execution_count": 6,
   "metadata": {},
   "outputs": [],
   "source": [
    "# Converting DepartureTime column to str with correct time format. \n",
    "# The plan is to convert the time to a datetime object and then extract the Hour as a new column.\n",
    "\n",
    "df['DepartureTime'] = df['DepartureTime'].astype(str)\n",
    "\n",
    "def convert_time(x):\n",
    "    '''\n",
    "    Function to convert time, ex: 714 to 7:14, or 1245 to 12:45\n",
    "    \n",
    "    INPUT:\n",
    "        Time in the column in military time format\n",
    "    \n",
    "    OUTPUT:\n",
    "        Fixed time in 24hr format\n",
    "    '''\n",
    "    if len(x) == 3:\n",
    "        x = x[:1] + ':' + x[-2:]\n",
    "    else:\n",
    "        x = x[:2] + ':' + x[-2:]\n",
    "    return x    \n",
    "\n",
    "df['DepartureTime'] = df['DepartureTime'].apply(convert_time) # Applying the convert_time function to the column\n",
    "\n",
    "from datetime import datetime\n",
    "\n",
    "df['DepartureTime'] = pd.to_datetime(df['DepartureTime']) # Converting the Departure Time to datetime object\n",
    "df['Hour'] = df['DepartureTime'].dt.hour # Creating a new Hour column to simplify time\n",
    "\n",
    "# df['Hour'] = df['Hour'].astype(str) # Converting to categorical\n",
    "df['Month'] = df['Month'].astype(str) # Converting to categorical\n",
    "\n",
    "df = df.drop('DepartureTime', axis = 1)"
   ]
  },
  {
   "cell_type": "code",
   "execution_count": 7,
   "metadata": {},
   "outputs": [
    {
     "data": {
      "text/html": [
       "<div>\n",
       "<style scoped>\n",
       "    .dataframe tbody tr th:only-of-type {\n",
       "        vertical-align: middle;\n",
       "    }\n",
       "\n",
       "    .dataframe tbody tr th {\n",
       "        vertical-align: top;\n",
       "    }\n",
       "\n",
       "    .dataframe thead th {\n",
       "        text-align: right;\n",
       "    }\n",
       "</style>\n",
       "<table border=\"1\" class=\"dataframe\">\n",
       "  <thead>\n",
       "    <tr style=\"text-align: right;\">\n",
       "      <th></th>\n",
       "      <th>Canceled</th>\n",
       "      <th>Month</th>\n",
       "      <th>UniqueCarrier</th>\n",
       "      <th>SchedElapsedTime</th>\n",
       "      <th>ArrDelay</th>\n",
       "      <th>DepDelay</th>\n",
       "      <th>Distance</th>\n",
       "      <th>Hour</th>\n",
       "    </tr>\n",
       "  </thead>\n",
       "  <tbody>\n",
       "    <tr>\n",
       "      <th>5783</th>\n",
       "      <td>0.0</td>\n",
       "      <td>10</td>\n",
       "      <td>UA</td>\n",
       "      <td>98.0</td>\n",
       "      <td>12.0</td>\n",
       "      <td>6</td>\n",
       "      <td>495.0</td>\n",
       "      <td>6</td>\n",
       "    </tr>\n",
       "    <tr>\n",
       "      <th>3865</th>\n",
       "      <td>0.0</td>\n",
       "      <td>5</td>\n",
       "      <td>UA</td>\n",
       "      <td>100.0</td>\n",
       "      <td>-17.0</td>\n",
       "      <td>-7</td>\n",
       "      <td>472.0</td>\n",
       "      <td>17</td>\n",
       "    </tr>\n",
       "    <tr>\n",
       "      <th>5556</th>\n",
       "      <td>0.0</td>\n",
       "      <td>5</td>\n",
       "      <td>UA</td>\n",
       "      <td>136.0</td>\n",
       "      <td>90.0</td>\n",
       "      <td>22</td>\n",
       "      <td>810.0</td>\n",
       "      <td>17</td>\n",
       "    </tr>\n",
       "    <tr>\n",
       "      <th>5127</th>\n",
       "      <td>0.0</td>\n",
       "      <td>5</td>\n",
       "      <td>AA</td>\n",
       "      <td>130.0</td>\n",
       "      <td>-7.0</td>\n",
       "      <td>-1</td>\n",
       "      <td>733.0</td>\n",
       "      <td>14</td>\n",
       "    </tr>\n",
       "    <tr>\n",
       "      <th>1142</th>\n",
       "      <td>0.0</td>\n",
       "      <td>6</td>\n",
       "      <td>DL</td>\n",
       "      <td>276.0</td>\n",
       "      <td>11.0</td>\n",
       "      <td>17</td>\n",
       "      <td>1946.0</td>\n",
       "      <td>12</td>\n",
       "    </tr>\n",
       "    <tr>\n",
       "      <th>5253</th>\n",
       "      <td>0.0</td>\n",
       "      <td>11</td>\n",
       "      <td>UA</td>\n",
       "      <td>138.0</td>\n",
       "      <td>-3.0</td>\n",
       "      <td>-3</td>\n",
       "      <td>910.0</td>\n",
       "      <td>11</td>\n",
       "    </tr>\n",
       "    <tr>\n",
       "      <th>5189</th>\n",
       "      <td>0.0</td>\n",
       "      <td>4</td>\n",
       "      <td>DL</td>\n",
       "      <td>92.0</td>\n",
       "      <td>37.0</td>\n",
       "      <td>8</td>\n",
       "      <td>425.0</td>\n",
       "      <td>17</td>\n",
       "    </tr>\n",
       "    <tr>\n",
       "      <th>4300</th>\n",
       "      <td>0.0</td>\n",
       "      <td>6</td>\n",
       "      <td>UA</td>\n",
       "      <td>142.0</td>\n",
       "      <td>3.0</td>\n",
       "      <td>6</td>\n",
       "      <td>802.0</td>\n",
       "      <td>9</td>\n",
       "    </tr>\n",
       "    <tr>\n",
       "      <th>1074</th>\n",
       "      <td>0.0</td>\n",
       "      <td>1</td>\n",
       "      <td>DL</td>\n",
       "      <td>175.0</td>\n",
       "      <td>-14.0</td>\n",
       "      <td>-5</td>\n",
       "      <td>944.0</td>\n",
       "      <td>14</td>\n",
       "    </tr>\n",
       "    <tr>\n",
       "      <th>1970</th>\n",
       "      <td>0.0</td>\n",
       "      <td>4</td>\n",
       "      <td>DL</td>\n",
       "      <td>82.0</td>\n",
       "      <td>-11.0</td>\n",
       "      <td>-5</td>\n",
       "      <td>332.0</td>\n",
       "      <td>21</td>\n",
       "    </tr>\n",
       "  </tbody>\n",
       "</table>\n",
       "</div>"
      ],
      "text/plain": [
       "      Canceled Month UniqueCarrier  SchedElapsedTime  ArrDelay  DepDelay  \\\n",
       "5783       0.0    10            UA              98.0      12.0         6   \n",
       "3865       0.0     5            UA             100.0     -17.0        -7   \n",
       "5556       0.0     5            UA             136.0      90.0        22   \n",
       "5127       0.0     5            AA             130.0      -7.0        -1   \n",
       "1142       0.0     6            DL             276.0      11.0        17   \n",
       "5253       0.0    11            UA             138.0      -3.0        -3   \n",
       "5189       0.0     4            DL              92.0      37.0         8   \n",
       "4300       0.0     6            UA             142.0       3.0         6   \n",
       "1074       0.0     1            DL             175.0     -14.0        -5   \n",
       "1970       0.0     4            DL              82.0     -11.0        -5   \n",
       "\n",
       "      Distance  Hour  \n",
       "5783     495.0     6  \n",
       "3865     472.0    17  \n",
       "5556     810.0    17  \n",
       "5127     733.0    14  \n",
       "1142    1946.0    12  \n",
       "5253     910.0    11  \n",
       "5189     425.0    17  \n",
       "4300     802.0     9  \n",
       "1074     944.0    14  \n",
       "1970     332.0    21  "
      ]
     },
     "execution_count": 7,
     "metadata": {},
     "output_type": "execute_result"
    }
   ],
   "source": [
    "df.sample(10)"
   ]
  },
  {
   "cell_type": "code",
   "execution_count": 8,
   "metadata": {},
   "outputs": [
    {
     "data": {
      "text/plain": [
       "AA    2470\n",
       "UA    1833\n",
       "DL    1678\n",
       "Name: UniqueCarrier, dtype: int64"
      ]
     },
     "execution_count": 8,
     "metadata": {},
     "output_type": "execute_result"
    }
   ],
   "source": [
    "df['UniqueCarrier'].value_counts()"
   ]
  },
  {
   "cell_type": "markdown",
   "metadata": {},
   "source": [
    "#### Missing Values"
   ]
  },
  {
   "cell_type": "code",
   "execution_count": 9,
   "metadata": {
    "code_folding": []
   },
   "outputs": [],
   "source": [
    "# \n",
    "\n",
    "def missing_values_table(df):\n",
    "    '''\n",
    "    Small function to print out a missing values table\n",
    "    \n",
    "    INPUT:\n",
    "        dataframe name\n",
    "        \n",
    "    OUTPUT:\n",
    "        missing values table\n",
    "    '''\n",
    "    # Total missing values\n",
    "    mis_val = df.isnull().sum()\n",
    "\n",
    "    # Percentage of missing values\n",
    "    mis_val_percent = 100 * df.isnull().sum() / len(df)\n",
    "\n",
    "    # Make a table with the results\n",
    "    mis_val_table = pd.concat([mis_val, mis_val_percent], axis=1)\n",
    "\n",
    "    # Rename the columns\n",
    "    mis_val_table_ren_columns = mis_val_table.rename(\n",
    "    columns = {0 : 'Missing Values', 1 : '% of Total Values'})\n",
    "\n",
    "    # Sort the table by percentage of missing descending\n",
    "    mis_val_table_ren_columns = mis_val_table_ren_columns[\n",
    "        mis_val_table_ren_columns.iloc[:,1] != 0].sort_values(\n",
    "    '% of Total Values', ascending=False).round(1)\n",
    "\n",
    "    # Print some summary information\n",
    "    print (\"Your selected dataframe has \" + str(df.shape[1]) + \" columns.\\n\"      \n",
    "        \"There are \" + str(mis_val_table_ren_columns.shape[0]) +\n",
    "          \" columns that have missing values.\")\n",
    "\n",
    "    # Return the dataframe with missing information\n",
    "    return mis_val_table_ren_columns    "
   ]
  },
  {
   "cell_type": "code",
   "execution_count": 10,
   "metadata": {},
   "outputs": [
    {
     "name": "stdout",
     "output_type": "stream",
     "text": [
      "Your selected dataframe has 8 columns.\n",
      "There are 2 columns that have missing values.\n"
     ]
    },
    {
     "data": {
      "text/html": [
       "<div>\n",
       "<style scoped>\n",
       "    .dataframe tbody tr th:only-of-type {\n",
       "        vertical-align: middle;\n",
       "    }\n",
       "\n",
       "    .dataframe tbody tr th {\n",
       "        vertical-align: top;\n",
       "    }\n",
       "\n",
       "    .dataframe thead th {\n",
       "        text-align: right;\n",
       "    }\n",
       "</style>\n",
       "<table border=\"1\" class=\"dataframe\">\n",
       "  <thead>\n",
       "    <tr style=\"text-align: right;\">\n",
       "      <th></th>\n",
       "      <th>Missing Values</th>\n",
       "      <th>% of Total Values</th>\n",
       "    </tr>\n",
       "  </thead>\n",
       "  <tbody>\n",
       "    <tr>\n",
       "      <th>Canceled</th>\n",
       "      <td>1</td>\n",
       "      <td>0.0</td>\n",
       "    </tr>\n",
       "    <tr>\n",
       "      <th>ArrDelay</th>\n",
       "      <td>1</td>\n",
       "      <td>0.0</td>\n",
       "    </tr>\n",
       "  </tbody>\n",
       "</table>\n",
       "</div>"
      ],
      "text/plain": [
       "          Missing Values  % of Total Values\n",
       "Canceled               1                0.0\n",
       "ArrDelay               1                0.0"
      ]
     },
     "execution_count": 10,
     "metadata": {},
     "output_type": "execute_result"
    }
   ],
   "source": [
    "missing_values_table(df)"
   ]
  },
  {
   "cell_type": "code",
   "execution_count": 11,
   "metadata": {
    "scrolled": true
   },
   "outputs": [],
   "source": [
    "# Removing rows with NA since the NA percentage is at very low levels and wouldn't impact our model\n",
    "\n",
    "df = df.dropna(axis = 0)"
   ]
  },
  {
   "cell_type": "markdown",
   "metadata": {},
   "source": [
    "### BASELINE MODEL"
   ]
  },
  {
   "cell_type": "code",
   "execution_count": 12,
   "metadata": {},
   "outputs": [],
   "source": [
    "# Load libraries\n",
    "from sklearn.dummy import DummyClassifier\n",
    "from sklearn.model_selection import train_test_split"
   ]
  },
  {
   "cell_type": "code",
   "execution_count": 13,
   "metadata": {},
   "outputs": [],
   "source": [
    "df_baseline = df.copy()"
   ]
  },
  {
   "cell_type": "code",
   "execution_count": 14,
   "metadata": {},
   "outputs": [],
   "source": [
    "df_baseline = df_baseline.drop(['ArrDelay', 'DepDelay'], axis = 1)"
   ]
  },
  {
   "cell_type": "code",
   "execution_count": 15,
   "metadata": {},
   "outputs": [],
   "source": [
    "X = df_baseline.drop('Canceled', axis = 1)\n",
    "y = df_baseline['Canceled']"
   ]
  },
  {
   "cell_type": "code",
   "execution_count": 16,
   "metadata": {},
   "outputs": [
    {
     "data": {
      "text/plain": [
       "0.5250836120401338"
      ]
     },
     "execution_count": 16,
     "metadata": {},
     "output_type": "execute_result"
    }
   ],
   "source": [
    "# Split into training and test set\n",
    "X_train, X_test, y_train, y_test = train_test_split(X, y, random_state=0)\n",
    "\n",
    "# Create dummy classifer\n",
    "dummy = DummyClassifier(strategy='uniform', random_state=1)\n",
    "\n",
    "# \"Train\" model\n",
    "dummy.fit(X_train, y_train)\n",
    "# Get accuracy score\n",
    "dummy.score(X_test, y_test)  \n"
   ]
  },
  {
   "cell_type": "code",
   "execution_count": 17,
   "metadata": {},
   "outputs": [
    {
     "name": "stdout",
     "output_type": "stream",
     "text": [
      "AUC: 0.50\n"
     ]
    },
    {
     "data": {
      "image/png": "[encoded data removed]",
      "text/plain": [
       "<Figure size 432x288 with 1 Axes>"
      ]
     },
     "metadata": {},
     "output_type": "display_data"
    }
   ],
   "source": [
    "from sklearn.metrics import roc_curve  \n",
    "from sklearn.metrics import roc_auc_score  \n",
    "\n",
    "# Get AUC score\n",
    "\n",
    "def plot_roc_curve(fpr, tpr):  \n",
    "    plt.plot(fpr, tpr, color='orange', label='ROC')\n",
    "    plt.plot([0, 1], [0, 1], color='darkblue', linestyle='--')\n",
    "    plt.xlabel('False Positive Rate')\n",
    "    plt.ylabel('True Positive Rate')\n",
    "    plt.title('Receiver Operating Characteristic (ROC) Curve')\n",
    "    plt.legend()\n",
    "    plt.show()\n",
    "    \n",
    "    \n",
    "dummy_probs = dummy.predict_proba(X_test)  \n",
    "\n",
    "dummy_probs = dummy_probs[:, 1]  \n",
    "\n",
    "auc = roc_auc_score(y_test, dummy_probs)  \n",
    "print('AUC: %.2f' % auc) \n",
    "\n",
    "fpr, tpr, thresholds = roc_curve(y_test, dummy_probs)      \n",
    "    \n",
    "plot_roc_curve(fpr, tpr)  \n",
    "\n"
   ]
  },
  {
   "cell_type": "markdown",
   "metadata": {},
   "source": [
    "### NEW FEATURES"
   ]
  },
  {
   "cell_type": "markdown",
   "metadata": {},
   "source": [
    "#### The new features haven't helped the model, which was expected for some. Using the new features for visualizations"
   ]
  },
  {
   "cell_type": "code",
   "execution_count": 18,
   "metadata": {},
   "outputs": [],
   "source": [
    "df2 = df.copy()"
   ]
  },
  {
   "cell_type": "code",
   "execution_count": 19,
   "metadata": {},
   "outputs": [],
   "source": [
    "# Extra time for passengers in the plane or during onboarding\n",
    "\n",
    "df2['extra_seat_time'] = df2['ArrDelay'] + df2['DepDelay']"
   ]
  },
  {
   "cell_type": "code",
   "execution_count": 20,
   "metadata": {
    "code_folding": []
   },
   "outputs": [],
   "source": [
    "df2['day_part'] = df2['Hour']\n",
    "\n",
    "def hour_segment(x):\n",
    "    '''\n",
    "    Breaks hours into categories of day times\n",
    "    \n",
    "    INPUT:\n",
    "        Time of day in hour format\n",
    "        \n",
    "    OUTPUT:\n",
    "        Morning, afternoon, evening or night\n",
    "    '''\n",
    "    if x > 6 and x < 12:\n",
    "        x = 'morning'\n",
    "    elif x > 11 and x < 17:\n",
    "        x = 'afternoon'\n",
    "    elif x > 16 and x < 21: \n",
    "        x = 'evening'\n",
    "    else:\n",
    "        x = 'night'\n",
    "    return x\n",
    "\n",
    "df2['day_part'] = df2['day_part'].apply(hour_segment)\n",
    "df2['Hour'] = df2['Hour'].astype(str)\n",
    "\n",
    "\n",
    "\n",
    "# Noon is at 12:00 PM. Afternoon is from 12:01 PM to around 5:00 PM. Evening is from 5:01 PM to 8 PM, \n",
    "#                 or around sunset. Night is from sunset to sunrise, so from 8:01 PM until 5:59 AM."
   ]
  },
  {
   "cell_type": "code",
   "execution_count": 21,
   "metadata": {
    "code_folding": []
   },
   "outputs": [],
   "source": [
    "# Breaking the month down into seasons\n",
    "\n",
    "df2['Month'] = df2['Month'].astype(int)\n",
    "df2['Season'] = df2['Month'].copy()\n",
    "\n",
    "def season(x):\n",
    "    '''\n",
    "    Month to season conversion\n",
    "    \n",
    "    INPUT:\n",
    "        Month number\n",
    "    \n",
    "    OUTPUT:\n",
    "        Season name - categorical\n",
    "    '''\n",
    "    if x in [12,1,2]:\n",
    "        x = 'winter'\n",
    "    elif x in [3,4,5]:\n",
    "        x = 'spring'\n",
    "    elif x in [6,7,8]:\n",
    "        x = 'summer'\n",
    "    else:\n",
    "        x = 'fall'\n",
    "    return x\n",
    "\n",
    "df2['Season'] = df2['Season'].apply(season)      \n",
    "df2['Month'] = df2['Month'].astype(str)"
   ]
  },
  {
   "cell_type": "code",
   "execution_count": 22,
   "metadata": {
    "code_folding": [
     2
    ]
   },
   "outputs": [],
   "source": [
    "df2['Flight_Length'] = df2['Distance'].copy()\n",
    "\n",
    "def flight_category(x):\n",
    "    '''\n",
    "    Converts flight length to flight type. Numerical to categorical conversion\n",
    "    \n",
    "    INPUT:\n",
    "        Flight length in miles\n",
    "        \n",
    "    OUTPUT:\n",
    "        Flight length as category\n",
    "    '''\n",
    "    if x < 1500:\n",
    "        x = 'short haul'\n",
    "    elif x > 5000:\n",
    "        x = 'long haul'\n",
    "    else:\n",
    "        x = 'medium haul'\n",
    "    return x\n",
    "\n",
    "df2['Flight_Length'] = df2['Flight_Length'].apply(flight_category)      \n"
   ]
  },
  {
   "cell_type": "code",
   "execution_count": 23,
   "metadata": {},
   "outputs": [],
   "source": [
    "# Creating a new average speed column based on distance and scheduled flight duration.\n",
    "df2['avg_speed'] = df2['Distance'] / df2['SchedElapsedTime'] * 60"
   ]
  },
  {
   "cell_type": "code",
   "execution_count": 24,
   "metadata": {},
   "outputs": [
    {
     "data": {
      "text/plain": [
       "count    5979.000000\n",
       "mean      339.540193\n",
       "std        96.306938\n",
       "min        85.000000\n",
       "25%       290.727273\n",
       "50%       344.594595\n",
       "75%       392.269697\n",
       "max      3807.142857\n",
       "Name: avg_speed, dtype: float64"
      ]
     },
     "execution_count": 24,
     "metadata": {},
     "output_type": "execute_result"
    }
   ],
   "source": [
    "df2['avg_speed'].describe()"
   ]
  },
  {
   "cell_type": "code",
   "execution_count": 25,
   "metadata": {},
   "outputs": [
    {
     "data": {
      "text/html": [
       "<div>\n",
       "<style scoped>\n",
       "    .dataframe tbody tr th:only-of-type {\n",
       "        vertical-align: middle;\n",
       "    }\n",
       "\n",
       "    .dataframe tbody tr th {\n",
       "        vertical-align: top;\n",
       "    }\n",
       "\n",
       "    .dataframe thead th {\n",
       "        text-align: right;\n",
       "    }\n",
       "</style>\n",
       "<table border=\"1\" class=\"dataframe\">\n",
       "  <thead>\n",
       "    <tr style=\"text-align: right;\">\n",
       "      <th></th>\n",
       "      <th>Canceled</th>\n",
       "      <th>Month</th>\n",
       "      <th>UniqueCarrier</th>\n",
       "      <th>SchedElapsedTime</th>\n",
       "      <th>ArrDelay</th>\n",
       "      <th>DepDelay</th>\n",
       "      <th>Distance</th>\n",
       "      <th>Hour</th>\n",
       "      <th>extra_seat_time</th>\n",
       "      <th>day_part</th>\n",
       "      <th>Season</th>\n",
       "      <th>Flight_Length</th>\n",
       "      <th>avg_speed</th>\n",
       "    </tr>\n",
       "  </thead>\n",
       "  <tbody>\n",
       "    <tr>\n",
       "      <th>234</th>\n",
       "      <td>1.0</td>\n",
       "      <td>4</td>\n",
       "      <td>DL</td>\n",
       "      <td>252.0</td>\n",
       "      <td>0.0</td>\n",
       "      <td>0</td>\n",
       "      <td>15990.0</td>\n",
       "      <td>16</td>\n",
       "      <td>0.0</td>\n",
       "      <td>afternoon</td>\n",
       "      <td>spring</td>\n",
       "      <td>long haul</td>\n",
       "      <td>3807.142857</td>\n",
       "    </tr>\n",
       "    <tr>\n",
       "      <th>5994</th>\n",
       "      <td>0.0</td>\n",
       "      <td>12</td>\n",
       "      <td>AA</td>\n",
       "      <td>185.0</td>\n",
       "      <td>20.0</td>\n",
       "      <td>22</td>\n",
       "      <td>10170.0</td>\n",
       "      <td>7</td>\n",
       "      <td>42.0</td>\n",
       "      <td>morning</td>\n",
       "      <td>winter</td>\n",
       "      <td>long haul</td>\n",
       "      <td>3298.378378</td>\n",
       "    </tr>\n",
       "    <tr>\n",
       "      <th>1263</th>\n",
       "      <td>0.0</td>\n",
       "      <td>7</td>\n",
       "      <td>AA</td>\n",
       "      <td>70.0</td>\n",
       "      <td>0.0</td>\n",
       "      <td>-1</td>\n",
       "      <td>762.0</td>\n",
       "      <td>14</td>\n",
       "      <td>-1.0</td>\n",
       "      <td>afternoon</td>\n",
       "      <td>summer</td>\n",
       "      <td>short haul</td>\n",
       "      <td>653.142857</td>\n",
       "    </tr>\n",
       "    <tr>\n",
       "      <th>3645</th>\n",
       "      <td>0.0</td>\n",
       "      <td>10</td>\n",
       "      <td>UA</td>\n",
       "      <td>470.0</td>\n",
       "      <td>-31.0</td>\n",
       "      <td>-4</td>\n",
       "      <td>4213.0</td>\n",
       "      <td>16</td>\n",
       "      <td>-35.0</td>\n",
       "      <td>afternoon</td>\n",
       "      <td>fall</td>\n",
       "      <td>medium haul</td>\n",
       "      <td>537.829787</td>\n",
       "    </tr>\n",
       "    <tr>\n",
       "      <th>1207</th>\n",
       "      <td>0.0</td>\n",
       "      <td>5</td>\n",
       "      <td>UA</td>\n",
       "      <td>481.0</td>\n",
       "      <td>-15.0</td>\n",
       "      <td>-8</td>\n",
       "      <td>4243.0</td>\n",
       "      <td>16</td>\n",
       "      <td>-23.0</td>\n",
       "      <td>afternoon</td>\n",
       "      <td>spring</td>\n",
       "      <td>medium haul</td>\n",
       "      <td>529.272349</td>\n",
       "    </tr>\n",
       "  </tbody>\n",
       "</table>\n",
       "</div>"
      ],
      "text/plain": [
       "      Canceled Month UniqueCarrier  SchedElapsedTime  ArrDelay  DepDelay  \\\n",
       "234        1.0     4            DL             252.0       0.0         0   \n",
       "5994       0.0    12            AA             185.0      20.0        22   \n",
       "1263       0.0     7            AA              70.0       0.0        -1   \n",
       "3645       0.0    10            UA             470.0     -31.0        -4   \n",
       "1207       0.0     5            UA             481.0     -15.0        -8   \n",
       "\n",
       "      Distance Hour  extra_seat_time   day_part  Season Flight_Length  \\\n",
       "234    15990.0   16              0.0  afternoon  spring     long haul   \n",
       "5994   10170.0    7             42.0    morning  winter     long haul   \n",
       "1263     762.0   14             -1.0  afternoon  summer    short haul   \n",
       "3645    4213.0   16            -35.0  afternoon    fall   medium haul   \n",
       "1207    4243.0   16            -23.0  afternoon  spring   medium haul   \n",
       "\n",
       "        avg_speed  \n",
       "234   3807.142857  \n",
       "5994  3298.378378  \n",
       "1263   653.142857  \n",
       "3645   537.829787  \n",
       "1207   529.272349  "
      ]
     },
     "execution_count": 25,
     "metadata": {},
     "output_type": "execute_result"
    }
   ],
   "source": [
    "df2.sort_values(by=['avg_speed'], ascending = False).head(5)"
   ]
  },
  {
   "cell_type": "markdown",
   "metadata": {},
   "source": [
    "Here we see there are 2 flights that fly faster than speed of sound, which is not plausible unless we were working on a NASA R&D dataset.. No passenger plane flies near those speeds, so we're going to drop those top 2 flights from our dataset"
   ]
  },
  {
   "cell_type": "code",
   "execution_count": 26,
   "metadata": {},
   "outputs": [],
   "source": [
    "df2 = df2.drop([234, 5994])"
   ]
  },
  {
   "cell_type": "code",
   "execution_count": 27,
   "metadata": {},
   "outputs": [],
   "source": [
    "def plane_type(x):\n",
    "    '''\n",
    "    Function to convert average speed to plane type\n",
    "    \n",
    "    INPUT:\n",
    "        Average speed of plane\n",
    "    \n",
    "    OUTPUT:\n",
    "        Plane type\n",
    "    '''\n",
    "    if x > 450:\n",
    "        x = 'turbo prop'\n",
    "    elif x < 250:\n",
    "        x = 'single prop'\n",
    "    else:\n",
    "        x = 'multi engine prop'\n",
    "    return x\n",
    "\n",
    "df2['Aircraft'] = df2['avg_speed'].apply(plane_type)  "
   ]
  },
  {
   "cell_type": "markdown",
   "metadata": {},
   "source": [
    "### EDA"
   ]
  },
  {
   "cell_type": "markdown",
   "metadata": {},
   "source": [
    "#### Flight Status Distribution"
   ]
  },
  {
   "cell_type": "code",
   "execution_count": 28,
   "metadata": {
    "scrolled": false
   },
   "outputs": [
    {
     "data": {
      "text/plain": [
       "[Text(0, 0.5, 'Count \\n '), Text(0.5, 0, '\\n Flight Status')]"
      ]
     },
     "execution_count": 28,
     "metadata": {},
     "output_type": "execute_result"
    },
    {
     "data": {
      "image/png": "[encoded data removed]",
      "text/plain": [
       "<Figure size 576x288 with 1 Axes>"
      ]
     },
     "metadata": {},
     "output_type": "display_data"
    }
   ],
   "source": [
    "sns.set_palette(\"Paired\")\n",
    "sns.set_style(\"whitegrid\")\n",
    "plt.figure(figsize=(8,4))\n",
    "ax = sns.countplot(df2['Canceled'])\n",
    "ax.set_title(' \\n Flight Status Distribution  \\n')\n",
    "sns.set(font_scale = 2)\n",
    "ax.set(xlabel = '\\n Flight Status', ylabel = 'Count \\n ')"
   ]
  },
  {
   "cell_type": "markdown",
   "metadata": {},
   "source": [
    "Visualization of the imbalance in our dataset.  \n",
    "\n",
    "Canceled Flights: 1000 records  \n",
    "Not Canceled Flights: 5000 records"
   ]
  },
  {
   "cell_type": "markdown",
   "metadata": {},
   "source": [
    " "
   ]
  },
  {
   "cell_type": "markdown",
   "metadata": {},
   "source": [
    "#### Delays per Flight"
   ]
  },
  {
   "cell_type": "code",
   "execution_count": 29,
   "metadata": {},
   "outputs": [
    {
     "data": {
      "image/png": "[encoded data removed]",
      "text/plain": [
       "<Figure size 1152x576 with 1 Axes>"
      ]
     },
     "metadata": {},
     "output_type": "display_data"
    }
   ],
   "source": [
    "# Plotting Arr vs Dep Delays.. A plane that's cancelled shouldn't have delays.\n",
    "\n",
    "sns.set_palette(\"muted\")\n",
    "sns.set_style(\"whitegrid\")\n",
    "plt.figure(figsize=(16,8))\n",
    "ax = sns.scatterplot(x=df2[\"ArrDelay\"], y=df2[\"DepDelay\"], hue=\"Canceled\", data=df)\n",
    "ax.set_title(' \\n Flight Delays  \\n')\n",
    "sns.set(font_scale = 2)"
   ]
  },
  {
   "cell_type": "code",
   "execution_count": 30,
   "metadata": {},
   "outputs": [
    {
     "data": {
      "text/html": [
       "<div>\n",
       "<style scoped>\n",
       "    .dataframe tbody tr th:only-of-type {\n",
       "        vertical-align: middle;\n",
       "    }\n",
       "\n",
       "    .dataframe tbody tr th {\n",
       "        vertical-align: top;\n",
       "    }\n",
       "\n",
       "    .dataframe thead th {\n",
       "        text-align: right;\n",
       "    }\n",
       "</style>\n",
       "<table border=\"1\" class=\"dataframe\">\n",
       "  <thead>\n",
       "    <tr style=\"text-align: right;\">\n",
       "      <th></th>\n",
       "      <th>Canceled</th>\n",
       "      <th>Month</th>\n",
       "      <th>UniqueCarrier</th>\n",
       "      <th>SchedElapsedTime</th>\n",
       "      <th>ArrDelay</th>\n",
       "      <th>DepDelay</th>\n",
       "      <th>Distance</th>\n",
       "      <th>Hour</th>\n",
       "      <th>extra_seat_time</th>\n",
       "      <th>day_part</th>\n",
       "      <th>Season</th>\n",
       "      <th>Flight_Length</th>\n",
       "      <th>avg_speed</th>\n",
       "      <th>Aircraft</th>\n",
       "    </tr>\n",
       "  </thead>\n",
       "  <tbody>\n",
       "  </tbody>\n",
       "</table>\n",
       "</div>"
      ],
      "text/plain": [
       "Empty DataFrame\n",
       "Columns: [Canceled, Month, UniqueCarrier, SchedElapsedTime, ArrDelay, DepDelay, Distance, Hour, extra_seat_time, day_part, Season, Flight_Length, avg_speed, Aircraft]\n",
       "Index: []"
      ]
     },
     "execution_count": 30,
     "metadata": {},
     "output_type": "execute_result"
    }
   ],
   "source": [
    "# Removing rows with canceled status & with arrival delay\n",
    "\n",
    "df2[(df2['Canceled'] == 1) & (df2['ArrDelay'] > 0)]"
   ]
  },
  {
   "cell_type": "code",
   "execution_count": 31,
   "metadata": {},
   "outputs": [
    {
     "data": {
      "text/html": [
       "<div>\n",
       "<style scoped>\n",
       "    .dataframe tbody tr th:only-of-type {\n",
       "        vertical-align: middle;\n",
       "    }\n",
       "\n",
       "    .dataframe tbody tr th {\n",
       "        vertical-align: top;\n",
       "    }\n",
       "\n",
       "    .dataframe thead th {\n",
       "        text-align: right;\n",
       "    }\n",
       "</style>\n",
       "<table border=\"1\" class=\"dataframe\">\n",
       "  <thead>\n",
       "    <tr style=\"text-align: right;\">\n",
       "      <th></th>\n",
       "      <th>Canceled</th>\n",
       "      <th>Month</th>\n",
       "      <th>UniqueCarrier</th>\n",
       "      <th>SchedElapsedTime</th>\n",
       "      <th>ArrDelay</th>\n",
       "      <th>DepDelay</th>\n",
       "      <th>Distance</th>\n",
       "      <th>Hour</th>\n",
       "      <th>extra_seat_time</th>\n",
       "      <th>day_part</th>\n",
       "      <th>Season</th>\n",
       "      <th>Flight_Length</th>\n",
       "      <th>avg_speed</th>\n",
       "      <th>Aircraft</th>\n",
       "    </tr>\n",
       "  </thead>\n",
       "  <tbody>\n",
       "    <tr>\n",
       "      <th>48</th>\n",
       "      <td>1.0</td>\n",
       "      <td>12</td>\n",
       "      <td>UA</td>\n",
       "      <td>187.0</td>\n",
       "      <td>0.0</td>\n",
       "      <td>46</td>\n",
       "      <td>1197.0</td>\n",
       "      <td>18</td>\n",
       "      <td>46.0</td>\n",
       "      <td>evening</td>\n",
       "      <td>winter</td>\n",
       "      <td>short haul</td>\n",
       "      <td>384.064171</td>\n",
       "      <td>multi engine prop</td>\n",
       "    </tr>\n",
       "    <tr>\n",
       "      <th>307</th>\n",
       "      <td>1.0</td>\n",
       "      <td>12</td>\n",
       "      <td>DL</td>\n",
       "      <td>57.0</td>\n",
       "      <td>0.0</td>\n",
       "      <td>13</td>\n",
       "      <td>215.0</td>\n",
       "      <td>22</td>\n",
       "      <td>13.0</td>\n",
       "      <td>night</td>\n",
       "      <td>winter</td>\n",
       "      <td>short haul</td>\n",
       "      <td>226.315789</td>\n",
       "      <td>single prop</td>\n",
       "    </tr>\n",
       "    <tr>\n",
       "      <th>409</th>\n",
       "      <td>1.0</td>\n",
       "      <td>10</td>\n",
       "      <td>UA</td>\n",
       "      <td>281.0</td>\n",
       "      <td>0.0</td>\n",
       "      <td>14</td>\n",
       "      <td>1619.0</td>\n",
       "      <td>7</td>\n",
       "      <td>14.0</td>\n",
       "      <td>morning</td>\n",
       "      <td>fall</td>\n",
       "      <td>medium haul</td>\n",
       "      <td>345.693950</td>\n",
       "      <td>multi engine prop</td>\n",
       "    </tr>\n",
       "    <tr>\n",
       "      <th>540</th>\n",
       "      <td>1.0</td>\n",
       "      <td>12</td>\n",
       "      <td>AA</td>\n",
       "      <td>60.0</td>\n",
       "      <td>0.0</td>\n",
       "      <td>3</td>\n",
       "      <td>190.0</td>\n",
       "      <td>14</td>\n",
       "      <td>3.0</td>\n",
       "      <td>afternoon</td>\n",
       "      <td>winter</td>\n",
       "      <td>short haul</td>\n",
       "      <td>190.000000</td>\n",
       "      <td>single prop</td>\n",
       "    </tr>\n",
       "    <tr>\n",
       "      <th>550</th>\n",
       "      <td>1.0</td>\n",
       "      <td>12</td>\n",
       "      <td>DL</td>\n",
       "      <td>158.0</td>\n",
       "      <td>0.0</td>\n",
       "      <td>41</td>\n",
       "      <td>950.0</td>\n",
       "      <td>10</td>\n",
       "      <td>41.0</td>\n",
       "      <td>morning</td>\n",
       "      <td>winter</td>\n",
       "      <td>short haul</td>\n",
       "      <td>360.759494</td>\n",
       "      <td>multi engine prop</td>\n",
       "    </tr>\n",
       "  </tbody>\n",
       "</table>\n",
       "</div>"
      ],
      "text/plain": [
       "     Canceled Month UniqueCarrier  SchedElapsedTime  ArrDelay  DepDelay  \\\n",
       "48        1.0    12            UA             187.0       0.0        46   \n",
       "307       1.0    12            DL              57.0       0.0        13   \n",
       "409       1.0    10            UA             281.0       0.0        14   \n",
       "540       1.0    12            AA              60.0       0.0         3   \n",
       "550       1.0    12            DL             158.0       0.0        41   \n",
       "\n",
       "     Distance Hour  extra_seat_time   day_part  Season Flight_Length  \\\n",
       "48     1197.0   18             46.0    evening  winter    short haul   \n",
       "307     215.0   22             13.0      night  winter    short haul   \n",
       "409    1619.0    7             14.0    morning    fall   medium haul   \n",
       "540     190.0   14              3.0  afternoon  winter    short haul   \n",
       "550     950.0   10             41.0    morning  winter    short haul   \n",
       "\n",
       "      avg_speed           Aircraft  \n",
       "48   384.064171  multi engine prop  \n",
       "307  226.315789        single prop  \n",
       "409  345.693950  multi engine prop  \n",
       "540  190.000000        single prop  \n",
       "550  360.759494  multi engine prop  "
      ]
     },
     "execution_count": 31,
     "metadata": {},
     "output_type": "execute_result"
    }
   ],
   "source": [
    "# Removing rows with canceled status & with departure delay\n",
    "\n",
    "df2[(df2['Canceled'] == 1) & (df2['DepDelay'] > 0)]"
   ]
  },
  {
   "cell_type": "markdown",
   "metadata": {},
   "source": [
    "As one can imagine, a cancelled flight would not have an arrival or departure delay, \n",
    "unless the flight was cancelled after the scheduled departure time. Holding the 2 columns, \n",
    "initial model's AUC were all very close to 1.0, and that didn't look normal. \n",
    "I will be dropping off the 2 delay columns before modeling."
   ]
  },
  {
   "cell_type": "markdown",
   "metadata": {},
   "source": [
    "#### Total Number of Cancellations per Carrier"
   ]
  },
  {
   "cell_type": "code",
   "execution_count": 32,
   "metadata": {},
   "outputs": [
    {
     "data": {
      "text/plain": [
       "[Text(0, 0.5, 'Count \\n '), Text(0.5, 0, '\\n Carrier')]"
      ]
     },
     "execution_count": 32,
     "metadata": {},
     "output_type": "execute_result"
    },
    {
     "data": {
      "image/png": "[encoded data removed]",
      "text/plain": [
       "<Figure size 576x288 with 1 Axes>"
      ]
     },
     "metadata": {},
     "output_type": "display_data"
    }
   ],
   "source": [
    "# Total Cancellations per airline\n",
    "sns.set_palette(\"muted\")\n",
    "sns.set_style(\"whitegrid\")\n",
    "plt.figure(figsize=(8,4))\n",
    "ax = sns.countplot(x = 'UniqueCarrier', data = df2.loc[df2['Canceled']==1])\n",
    "ax.set_title(' \\n Cancellations per Carrier  \\n')\n",
    "sns.set(font_scale = 2)\n",
    "ax.set(xlabel = '\\n Carrier', ylabel = 'Count \\n ')\n",
    "\n"
   ]
  },
  {
   "cell_type": "markdown",
   "metadata": {},
   "source": [
    "American Airlines had the highest number of cancelations and Delta had the lowest."
   ]
  },
  {
   "cell_type": "markdown",
   "metadata": {},
   "source": [
    "#### Number of Cancellations per Carrier per Month"
   ]
  },
  {
   "cell_type": "code",
   "execution_count": 33,
   "metadata": {},
   "outputs": [
    {
     "data": {
      "image/png": "[encoded data removed]",
      "text/plain": [
       "<Figure size 576x288 with 1 Axes>"
      ]
     },
     "metadata": {},
     "output_type": "display_data"
    }
   ],
   "source": [
    "sns.set_palette(\"RdBu_r\", 2)\n",
    "sns.set_style(\"whitegrid\")\n",
    "# plot data\n",
    "plt.figure(figsize=(8,4))\n",
    "ax = sns.countplot(x = 'Month', data = df2.loc[df['Canceled'] == 1], hue='UniqueCarrier')\n",
    "ax.set_title(' \\n Cancellations per Carrier per Month \\n')\n",
    "sns.set(font_scale = 2)\n",
    "ax.set(xlabel = '\\n Month', ylabel = 'Count \\n ')\n",
    "# loc, labels = plt.xticks()\n",
    "# ax.set_xticklabels(labels, rotation=90)\n",
    "plt.legend(loc='upper right')\n",
    "ax.legend(fontsize = 'xx-small')\n",
    "\n",
    "df2['Month'] = df2['Month'].astype(int)\n",
    "dates = df2['Month'].sort_values(ascending = True).unique()\n",
    "ax.set_xticklabels(labels = dates , ha='right')\n",
    "df2['Month'] = df2['Month'].astype(str)"
   ]
  },
  {
   "cell_type": "code",
   "execution_count": 34,
   "metadata": {},
   "outputs": [
    {
     "data": {
      "text/plain": [
       "UniqueCarrier  Month\n",
       "AA             1        0.215311\n",
       "               10       0.053254\n",
       "               11       0.067416\n",
       "               12       0.206250\n",
       "               2        0.311404\n",
       "               3        0.344978\n",
       "               4        0.358491\n",
       "               5        0.169154\n",
       "               6        0.114583\n",
       "               7        0.088757\n",
       "               8        0.158996\n",
       "               9        0.107345\n",
       "DL             1        0.207143\n",
       "               10       0.007143\n",
       "               11       0.098361\n",
       "               12       0.143713\n",
       "               2        0.133758\n",
       "               3        0.106061\n",
       "               4        0.078125\n",
       "               5        0.035971\n",
       "               6        0.139706\n",
       "               7        0.181102\n",
       "               8        0.117241\n",
       "               9        0.083333\n",
       "UA             1        0.266304\n",
       "               10       0.042553\n",
       "               11       0.073171\n",
       "               12       0.233083\n",
       "               2        0.258065\n",
       "               3        0.225166\n",
       "               4        0.158273\n",
       "               5        0.144509\n",
       "               6        0.147239\n",
       "               7        0.251366\n",
       "               8        0.128000\n",
       "               9        0.053846\n",
       "Name: Canceled, dtype: float64"
      ]
     },
     "execution_count": 34,
     "metadata": {},
     "output_type": "execute_result"
    }
   ],
   "source": [
    "df2.groupby(['UniqueCarrier', 'Month'])['Canceled'].mean()"
   ]
  },
  {
   "cell_type": "markdown",
   "metadata": {},
   "source": [
    "#### Worst Month to Fly:  \n",
    "\n",
    "AA: April  \n",
    "DL: January  \n",
    "UA: January  "
   ]
  },
  {
   "cell_type": "markdown",
   "metadata": {},
   "source": [
    "#### Number of Cancellations per Carrier per Hour of the Day"
   ]
  },
  {
   "cell_type": "code",
   "execution_count": 35,
   "metadata": {},
   "outputs": [
    {
     "data": {
      "image/png": "[encoded data removed]",
      "text/plain": [
       "<Figure size 576x288 with 1 Axes>"
      ]
     },
     "metadata": {},
     "output_type": "display_data"
    }
   ],
   "source": [
    "sns.set_palette(\"muted\")\n",
    "sns.set_style(\"whitegrid\")\n",
    "# plot data\n",
    "plt.figure(figsize=(8,4))\n",
    "ax = sns.countplot(x = 'Hour', data = df2.loc[df2['Canceled'] == 1], hue='UniqueCarrier')\n",
    "ax.set_title(' \\n Number of Cancellations per Carrier per Hour of the Day \\n')\n",
    "sns.set(font_scale = 2)\n",
    "ax.set(xlabel = '\\n Hour', ylabel = 'Count \\n ')\n",
    "# loc, labels = plt.xticks()\n",
    "# ax.set_xticklabels(labels, rotation=90)\n",
    "plt.legend(loc='upper right')\n",
    "ax.legend(fontsize = 'xx-small')\n",
    "\n",
    "df2['Hour'] = df2['Hour'].astype(int)\n",
    "dates = df2['Hour'].sort_values(ascending = True).unique()\n",
    "ax.set_xticklabels(labels = dates , ha='right')\n",
    "df2['Hour'] = df2['Hour'].astype(str)"
   ]
  },
  {
   "cell_type": "code",
   "execution_count": 36,
   "metadata": {},
   "outputs": [
    {
     "data": {
      "text/plain": [
       "UniqueCarrier  Hour\n",
       "AA             1       0.000000\n",
       "               10      0.203593\n",
       "               11      0.203947\n",
       "               12      0.168750\n",
       "               13      0.264706\n",
       "               14      0.210843\n",
       "               15      0.201087\n",
       "               16      0.191860\n",
       "               17      0.200000\n",
       "               18      0.204819\n",
       "               19      0.234043\n",
       "               20      0.195402\n",
       "               21      0.192308\n",
       "               22      0.115385\n",
       "               23      0.000000\n",
       "               5       0.000000\n",
       "               6       0.195122\n",
       "               7       0.195652\n",
       "               8       0.168367\n",
       "               9       0.183007\n",
       "DL             10      0.100917\n",
       "               11      0.096000\n",
       "               12      0.137615\n",
       "               13      0.113208\n",
       "               14      0.138298\n",
       "               15      0.085714\n",
       "               16      0.098485\n",
       "               17      0.149123\n",
       "               18      0.134615\n",
       "               19      0.181818\n",
       "               20      0.080645\n",
       "               21      0.049180\n",
       "               22      0.095238\n",
       "               23      0.000000\n",
       "               5       0.000000\n",
       "               6       0.125000\n",
       "               7       0.082759\n",
       "               8       0.129310\n",
       "               9       0.106796\n",
       "UA             10      0.156250\n",
       "               11      0.209524\n",
       "               12      0.182609\n",
       "               13      0.183333\n",
       "               14      0.120000\n",
       "               15      0.134021\n",
       "               16      0.112245\n",
       "               17      0.204082\n",
       "               18      0.145038\n",
       "               19      0.260417\n",
       "               20      0.262295\n",
       "               21      0.173077\n",
       "               22      0.140000\n",
       "               23      0.111111\n",
       "               5       0.333333\n",
       "               6       0.180000\n",
       "               7       0.136364\n",
       "               8       0.186207\n",
       "               9       0.180723\n",
       "Name: Canceled, dtype: float64"
      ]
     },
     "execution_count": 36,
     "metadata": {},
     "output_type": "execute_result"
    }
   ],
   "source": [
    "df2.groupby(['UniqueCarrier', 'Hour'])['Canceled'].mean()"
   ]
  },
  {
   "cell_type": "markdown",
   "metadata": {},
   "source": [
    "#### Worst Hour to Fly:  \n",
    "\n",
    "AA: 1pm  \n",
    "DL: 7pm     \n",
    "UA: 5am   "
   ]
  },
  {
   "cell_type": "markdown",
   "metadata": {},
   "source": [
    "#### Total Delays per Carrier"
   ]
  },
  {
   "cell_type": "code",
   "execution_count": 37,
   "metadata": {},
   "outputs": [
    {
     "data": {
      "text/plain": [
       "<matplotlib.legend.Legend at 0x1258440f0>"
      ]
     },
     "execution_count": 37,
     "metadata": {},
     "output_type": "execute_result"
    },
    {
     "data": {
      "image/png": "[encoded data removed]",
      "text/plain": [
       "<Figure size 576x288 with 1 Axes>"
      ]
     },
     "metadata": {},
     "output_type": "display_data"
    }
   ],
   "source": [
    "flatui = [\"#9b59b6\", \"#3498db\", \"#95a5a6\", \"#e74c3c\", \"#34495e\", \"#2ecc71\"]\n",
    "sns.set_palette(flatui)\n",
    "sns.set_style(\"whitegrid\")\n",
    "# plot data\n",
    "df2['Month'] = df2['Month'].astype(int)\n",
    "\n",
    "plt.figure(figsize=(8,4))\n",
    "ax = sns.countplot(x = 'Month', data = df2.loc[df['ArrDelay'] > 0], hue='UniqueCarrier')\n",
    "ax = sns.countplot(x = 'Month', data = df2.loc[df['DepDelay'] > 0], hue='UniqueCarrier')\n",
    "ax.set_title(' \\n Total Delays per Carrier per Month \\n')\n",
    "sns.set(font_scale = 2)\n",
    "ax.set(xlabel = '\\n Month', ylabel = 'Count \\n ')\n",
    "plt.legend(loc='upper right')\n",
    "ax.legend(fontsize = 'xx-small')"
   ]
  },
  {
   "cell_type": "markdown",
   "metadata": {},
   "source": [
    "#### Flight Durations"
   ]
  },
  {
   "cell_type": "code",
   "execution_count": 38,
   "metadata": {},
   "outputs": [
    {
     "data": {
      "text/plain": [
       "Text(0.5, 1.0, 'Distribution of Flight Duration')"
      ]
     },
     "execution_count": 38,
     "metadata": {},
     "output_type": "execute_result"
    },
    {
     "data": {
      "image/png": "[encoded data removed]",
      "text/plain": [
       "<Figure size 576x288 with 1 Axes>"
      ]
     },
     "metadata": {},
     "output_type": "display_data"
    }
   ],
   "source": [
    "sns.set_palette(\"muted\")\n",
    "sns.set_style(\"whitegrid\")\n",
    "plt.figure(figsize=(8,4))\n",
    "ax = sns.distplot(df2['SchedElapsedTime'])\n",
    "ax.set_title('Distribution of Flight Duration')"
   ]
  },
  {
   "cell_type": "markdown",
   "metadata": {},
   "source": [
    "### Time of Day Cancellations Breakdown"
   ]
  },
  {
   "cell_type": "code",
   "execution_count": 39,
   "metadata": {},
   "outputs": [
    {
     "data": {
      "text/plain": [
       "<matplotlib.legend.Legend at 0x125d41780>"
      ]
     },
     "execution_count": 39,
     "metadata": {},
     "output_type": "execute_result"
    },
    {
     "data": {
      "image/png": "[encoded data removed]",
      "text/plain": [
       "<Figure size 576x288 with 1 Axes>"
      ]
     },
     "metadata": {},
     "output_type": "display_data"
    }
   ],
   "source": [
    "sns.set_palette(\"muted\")\n",
    "sns.set_style(\"whitegrid\")\n",
    "# plot data\n",
    "plt.figure(figsize=(8,4))\n",
    "ax = sns.countplot(x = 'day_part', data = df2.loc[df['Canceled'] == 1], hue='UniqueCarrier')\n",
    "ax.set_title(' \\n Number of Cancellations per Carrier per Time of Day \\n')\n",
    "sns.set(font_scale = 2)\n",
    "ax.set(xlabel = '\\n Time of Day', ylabel = 'Count \\n ')\n",
    "# loc, labels = plt.xticks()\n",
    "# ax.set_xticklabels(labels, rotation=90)\n",
    "plt.legend(loc='upper right')\n",
    "ax.legend(fontsize = 'xx-small')\n"
   ]
  },
  {
   "cell_type": "markdown",
   "metadata": {},
   "source": [
    "### Percentage of Flights Canceled per Carrier per Time of Day"
   ]
  },
  {
   "cell_type": "code",
   "execution_count": 40,
   "metadata": {
    "scrolled": true
   },
   "outputs": [
    {
     "data": {
      "text/html": [
       "<div>\n",
       "<style scoped>\n",
       "    .dataframe tbody tr th:only-of-type {\n",
       "        vertical-align: middle;\n",
       "    }\n",
       "\n",
       "    .dataframe tbody tr th {\n",
       "        vertical-align: top;\n",
       "    }\n",
       "\n",
       "    .dataframe thead th {\n",
       "        text-align: right;\n",
       "    }\n",
       "</style>\n",
       "<table border=\"1\" class=\"dataframe\">\n",
       "  <thead>\n",
       "    <tr style=\"text-align: right;\">\n",
       "      <th>UniqueCarrier</th>\n",
       "      <th>AA</th>\n",
       "      <th>DL</th>\n",
       "      <th>UA</th>\n",
       "    </tr>\n",
       "    <tr>\n",
       "      <th>day_part</th>\n",
       "      <th></th>\n",
       "      <th></th>\n",
       "      <th></th>\n",
       "    </tr>\n",
       "  </thead>\n",
       "  <tbody>\n",
       "    <tr>\n",
       "      <th>afternoon</th>\n",
       "      <td>0.207746</td>\n",
       "      <td>0.113553</td>\n",
       "      <td>0.149057</td>\n",
       "    </tr>\n",
       "    <tr>\n",
       "      <th>evening</th>\n",
       "      <td>0.209386</td>\n",
       "      <td>0.138728</td>\n",
       "      <td>0.206897</td>\n",
       "    </tr>\n",
       "    <tr>\n",
       "      <th>morning</th>\n",
       "      <td>0.189826</td>\n",
       "      <td>0.102007</td>\n",
       "      <td>0.172007</td>\n",
       "    </tr>\n",
       "    <tr>\n",
       "      <th>night</th>\n",
       "      <td>0.175097</td>\n",
       "      <td>0.085561</td>\n",
       "      <td>0.168498</td>\n",
       "    </tr>\n",
       "  </tbody>\n",
       "</table>\n",
       "</div>"
      ],
      "text/plain": [
       "UniqueCarrier        AA        DL        UA\n",
       "day_part                                   \n",
       "afternoon      0.207746  0.113553  0.149057\n",
       "evening        0.209386  0.138728  0.206897\n",
       "morning        0.189826  0.102007  0.172007\n",
       "night          0.175097  0.085561  0.168498"
      ]
     },
     "execution_count": 40,
     "metadata": {},
     "output_type": "execute_result"
    }
   ],
   "source": [
    "pd.crosstab(df2['day_part'], df2['UniqueCarrier'], values=df2[\"Canceled\"], aggfunc='mean')"
   ]
  },
  {
   "cell_type": "markdown",
   "metadata": {},
   "source": [
    "From the above table, we're seeing that American Airlines have a cancelation rate of ~20% for their afternoon and evening flights followed by ~19% for their morning flights and ~17% for their night flights."
   ]
  },
  {
   "cell_type": "markdown",
   "metadata": {},
   "source": [
    "### Cancellation by Seasons"
   ]
  },
  {
   "cell_type": "code",
   "execution_count": 41,
   "metadata": {},
   "outputs": [
    {
     "data": {
      "text/plain": [
       "<matplotlib.legend.Legend at 0x125e2e5f8>"
      ]
     },
     "execution_count": 41,
     "metadata": {},
     "output_type": "execute_result"
    },
    {
     "data": {
      "image/png": "[encoded data removed]",
      "text/plain": [
       "<Figure size 576x288 with 1 Axes>"
      ]
     },
     "metadata": {},
     "output_type": "display_data"
    }
   ],
   "source": [
    "sns.set_palette(\"muted\")\n",
    "sns.set_style(\"whitegrid\")\n",
    "# plot data\n",
    "plt.figure(figsize=(8,4))\n",
    "ax = sns.countplot(x = 'Season', data = df2.loc[df['Canceled'] == 1], hue='UniqueCarrier')\n",
    "ax.set_title(' \\n Number of Cancellations per Carrier per Season \\n')\n",
    "sns.set(font_scale = 2)\n",
    "ax.set(xlabel = '\\n Season', ylabel = 'Count \\n ')\n",
    "# loc, labels = plt.xticks()\n",
    "# ax.set_xticklabels(labels, rotation=90)\n",
    "plt.legend(loc='upper right')\n",
    "ax.legend(fontsize = 'xx-small')\n"
   ]
  },
  {
   "cell_type": "markdown",
   "metadata": {},
   "source": [
    "### Percentage of Flights Canceled by Season per Carrier"
   ]
  },
  {
   "cell_type": "code",
   "execution_count": 42,
   "metadata": {},
   "outputs": [
    {
     "data": {
      "text/html": [
       "<div>\n",
       "<style scoped>\n",
       "    .dataframe tbody tr th:only-of-type {\n",
       "        vertical-align: middle;\n",
       "    }\n",
       "\n",
       "    .dataframe tbody tr th {\n",
       "        vertical-align: top;\n",
       "    }\n",
       "\n",
       "    .dataframe thead th {\n",
       "        text-align: right;\n",
       "    }\n",
       "</style>\n",
       "<table border=\"1\" class=\"dataframe\">\n",
       "  <thead>\n",
       "    <tr style=\"text-align: right;\">\n",
       "      <th>UniqueCarrier</th>\n",
       "      <th>AA</th>\n",
       "      <th>DL</th>\n",
       "      <th>UA</th>\n",
       "    </tr>\n",
       "    <tr>\n",
       "      <th>Season</th>\n",
       "      <th></th>\n",
       "      <th></th>\n",
       "      <th></th>\n",
       "    </tr>\n",
       "  </thead>\n",
       "  <tbody>\n",
       "    <tr>\n",
       "      <th>fall</th>\n",
       "      <td>0.076336</td>\n",
       "      <td>0.061576</td>\n",
       "      <td>0.055838</td>\n",
       "    </tr>\n",
       "    <tr>\n",
       "      <th>spring</th>\n",
       "      <td>0.303476</td>\n",
       "      <td>0.072682</td>\n",
       "      <td>0.174946</td>\n",
       "    </tr>\n",
       "    <tr>\n",
       "      <th>summer</th>\n",
       "      <td>0.125000</td>\n",
       "      <td>0.144608</td>\n",
       "      <td>0.182590</td>\n",
       "    </tr>\n",
       "    <tr>\n",
       "      <th>winter</th>\n",
       "      <td>0.249581</td>\n",
       "      <td>0.159483</td>\n",
       "      <td>0.254473</td>\n",
       "    </tr>\n",
       "  </tbody>\n",
       "</table>\n",
       "</div>"
      ],
      "text/plain": [
       "UniqueCarrier        AA        DL        UA\n",
       "Season                                     \n",
       "fall           0.076336  0.061576  0.055838\n",
       "spring         0.303476  0.072682  0.174946\n",
       "summer         0.125000  0.144608  0.182590\n",
       "winter         0.249581  0.159483  0.254473"
      ]
     },
     "execution_count": 42,
     "metadata": {},
     "output_type": "execute_result"
    }
   ],
   "source": [
    "pd.crosstab(df2['Season'],df2['UniqueCarrier'], values=df2[\"Canceled\"], aggfunc='mean')"
   ]
  },
  {
   "cell_type": "markdown",
   "metadata": {},
   "source": [
    "American Airlines cancel 30% of their Spring flights, whereas that Delta cancels only 7%, meaning flying with Delta will have a higher probability of getting where a passenger needs to go on time during Spring"
   ]
  },
  {
   "cell_type": "markdown",
   "metadata": {},
   "source": [
    "### Cancellation by Distance"
   ]
  },
  {
   "cell_type": "code",
   "execution_count": 43,
   "metadata": {},
   "outputs": [
    {
     "data": {
      "text/plain": [
       "<matplotlib.legend.Legend at 0x125f7ea58>"
      ]
     },
     "execution_count": 43,
     "metadata": {},
     "output_type": "execute_result"
    },
    {
     "data": {
      "image/png": "[encoded data removed]",
      "text/plain": [
       "<Figure size 576x288 with 1 Axes>"
      ]
     },
     "metadata": {},
     "output_type": "display_data"
    }
   ],
   "source": [
    "sns.set_style(\"whitegrid\")\n",
    "# plot data\n",
    "plt.figure(figsize=(8,4))\n",
    "ax = sns.countplot(x = 'Flight_Length', data = df2.loc[df2['Canceled'] == 1], hue='UniqueCarrier')\n",
    "ax.set_title(' \\n Number of Cancellations per Carrier per Flight Category \\n')\n",
    "sns.set(font_scale = 2)\n",
    "ax.set(xlabel = '\\n Flight Length', ylabel = 'Count \\n ')\n",
    "# loc, labels = plt.xticks()\n",
    "# ax.set_xticklabels(labels, rotation=90)\n",
    "plt.legend(loc='upper right')\n",
    "ax.legend(fontsize = 'xx-small')\n"
   ]
  },
  {
   "cell_type": "markdown",
   "metadata": {},
   "source": [
    "Most of the flight cancelations has been on short haul flights, where we see Delta again with the lowest number of cancelations."
   ]
  },
  {
   "cell_type": "markdown",
   "metadata": {},
   "source": [
    "### Percentage of Flights Canceled by Distance per Carrier"
   ]
  },
  {
   "cell_type": "code",
   "execution_count": 44,
   "metadata": {},
   "outputs": [
    {
     "data": {
      "text/html": [
       "<div>\n",
       "<style scoped>\n",
       "    .dataframe tbody tr th:only-of-type {\n",
       "        vertical-align: middle;\n",
       "    }\n",
       "\n",
       "    .dataframe tbody tr th {\n",
       "        vertical-align: top;\n",
       "    }\n",
       "\n",
       "    .dataframe thead th {\n",
       "        text-align: right;\n",
       "    }\n",
       "</style>\n",
       "<table border=\"1\" class=\"dataframe\">\n",
       "  <thead>\n",
       "    <tr style=\"text-align: right;\">\n",
       "      <th>UniqueCarrier</th>\n",
       "      <th>AA</th>\n",
       "      <th>DL</th>\n",
       "      <th>UA</th>\n",
       "    </tr>\n",
       "    <tr>\n",
       "      <th>Flight_Length</th>\n",
       "      <th></th>\n",
       "      <th></th>\n",
       "      <th></th>\n",
       "    </tr>\n",
       "  </thead>\n",
       "  <tbody>\n",
       "    <tr>\n",
       "      <th>medium haul</th>\n",
       "      <td>0.152174</td>\n",
       "      <td>0.032738</td>\n",
       "      <td>0.113586</td>\n",
       "    </tr>\n",
       "    <tr>\n",
       "      <th>short haul</th>\n",
       "      <td>0.207044</td>\n",
       "      <td>0.131245</td>\n",
       "      <td>0.192475</td>\n",
       "    </tr>\n",
       "  </tbody>\n",
       "</table>\n",
       "</div>"
      ],
      "text/plain": [
       "UniqueCarrier        AA        DL        UA\n",
       "Flight_Length                              \n",
       "medium haul    0.152174  0.032738  0.113586\n",
       "short haul     0.207044  0.131245  0.192475"
      ]
     },
     "execution_count": 44,
     "metadata": {},
     "output_type": "execute_result"
    }
   ],
   "source": [
    "pd.crosstab(df2['Flight_Length'],df2['UniqueCarrier'], values=df2[\"Canceled\"], aggfunc='mean')"
   ]
  },
  {
   "cell_type": "markdown",
   "metadata": {},
   "source": [
    "Here we can see Delta is the best option when it comes to short & medium haul flights with lowest rate of cancellation. Delta canceled only 3% of their medium haul flights and 13% of short haul flights."
   ]
  },
  {
   "cell_type": "markdown",
   "metadata": {},
   "source": [
    "### Worst 20 times to fly"
   ]
  },
  {
   "cell_type": "code",
   "execution_count": 45,
   "metadata": {},
   "outputs": [
    {
     "data": {
      "text/plain": [
       "UniqueCarrier  Month  Flight_Length\n",
       "AA             3      short haul       0.368159\n",
       "               4      short haul       0.361940\n",
       "               2      short haul       0.340314\n",
       "               4      medium haul      0.340000\n",
       "UA             7      short haul       0.296296\n",
       "               1      medium haul      0.288889\n",
       "               2      short haul       0.285714\n",
       "AA             1      medium haul      0.269231\n",
       "UA             1      short haul       0.258993\n",
       "               3      short haul       0.258621\n",
       "DL             1      short haul       0.243243\n",
       "UA             12     short haul       0.240385\n",
       "AA             12     medium haul      0.233333\n",
       "DL             7      short haul       0.224490\n",
       "AA             1      short haul       0.207650\n",
       "UA             12     medium haul      0.206897\n",
       "AA             12     short haul       0.200000\n",
       "UA             5      short haul       0.183206\n",
       "               4      short haul       0.181818\n",
       "AA             3      medium haul      0.178571\n",
       "Name: Canceled, dtype: float64"
      ]
     },
     "execution_count": 45,
     "metadata": {},
     "output_type": "execute_result"
    }
   ],
   "source": [
    "df2.groupby(['UniqueCarrier', 'Month', 'Flight_Length'])['Canceled'].mean().sort_values(ascending = False).head(20)"
   ]
  },
  {
   "cell_type": "markdown",
   "metadata": {},
   "source": [
    "From the table above, we're seeing the worst 20 times to fly based on cancelation numbers. For example, Flying with American Airlines in March & April on a short haul flight had a cancelation rate of ~37%."
   ]
  },
  {
   "cell_type": "markdown",
   "metadata": {},
   "source": [
    "### Airlines based on total cancelations."
   ]
  },
  {
   "cell_type": "code",
   "execution_count": 46,
   "metadata": {},
   "outputs": [
    {
     "data": {
      "text/html": [
       "<div>\n",
       "<style scoped>\n",
       "    .dataframe tbody tr th:only-of-type {\n",
       "        vertical-align: middle;\n",
       "    }\n",
       "\n",
       "    .dataframe tbody tr th {\n",
       "        vertical-align: top;\n",
       "    }\n",
       "\n",
       "    .dataframe thead th {\n",
       "        text-align: right;\n",
       "    }\n",
       "</style>\n",
       "<table border=\"1\" class=\"dataframe\">\n",
       "  <thead>\n",
       "    <tr style=\"text-align: right;\">\n",
       "      <th>UniqueCarrier</th>\n",
       "      <th>AA</th>\n",
       "      <th>DL</th>\n",
       "      <th>UA</th>\n",
       "    </tr>\n",
       "    <tr>\n",
       "      <th>Canceled</th>\n",
       "      <th></th>\n",
       "      <th></th>\n",
       "      <th></th>\n",
       "    </tr>\n",
       "  </thead>\n",
       "  <tbody>\n",
       "    <tr>\n",
       "      <th>0.0</th>\n",
       "      <td>0.801134</td>\n",
       "      <td>0.888491</td>\n",
       "      <td>0.826871</td>\n",
       "    </tr>\n",
       "    <tr>\n",
       "      <th>1.0</th>\n",
       "      <td>0.198866</td>\n",
       "      <td>0.111509</td>\n",
       "      <td>0.173129</td>\n",
       "    </tr>\n",
       "  </tbody>\n",
       "</table>\n",
       "</div>"
      ],
      "text/plain": [
       "UniqueCarrier        AA        DL        UA\n",
       "Canceled                                   \n",
       "0.0            0.801134  0.888491  0.826871\n",
       "1.0            0.198866  0.111509  0.173129"
      ]
     },
     "execution_count": 46,
     "metadata": {},
     "output_type": "execute_result"
    }
   ],
   "source": [
    "# Creating table of flight status for each airline\n",
    "\n",
    "pd.crosstab(df2['Canceled'],df2['UniqueCarrier']).apply(lambda x: x/x.sum(), axis=0)\n"
   ]
  },
  {
   "cell_type": "markdown",
   "metadata": {},
   "source": [
    "---------------------"
   ]
  },
  {
   "cell_type": "markdown",
   "metadata": {},
   "source": [
    "## MOST RELIABLE AIRLINE"
   ]
  },
  {
   "cell_type": "markdown",
   "metadata": {},
   "source": [
    "#### As we can see from the visualizations and the tables above, from a total cancelations perspective, Delta airlines is the most reliable out of 3 with only 11% of the flights getting cancelled.  \n",
    "\n",
    "For more personalized flight recommendations, it's advisable to take the flight month, time and distance into consideration when making a ticket sale.\n",
    "\n",
    "Focusing ticket sales efforts on Delta Airlines which will produce the least amount of cancelations, pending required departure/arrival times of flights, except when the flight is in Fall season where United Airlines has a lower cancelation rate.\n",
    "\n",
    "Using this model, one can (at a basic level, with min amount of information) make predictions around whether a flight will be canceled or not depending on the month, day, time and distance. \n"
   ]
  },
  {
   "cell_type": "code",
   "execution_count": 47,
   "metadata": {},
   "outputs": [],
   "source": [
    "df['Month'] = df['Month'].astype(str)"
   ]
  },
  {
   "cell_type": "code",
   "execution_count": 48,
   "metadata": {},
   "outputs": [],
   "source": [
    "# removing features that create data leakage\n",
    "df = df.drop(['ArrDelay', 'DepDelay'], axis = 1)"
   ]
  },
  {
   "cell_type": "code",
   "execution_count": 49,
   "metadata": {},
   "outputs": [
    {
     "data": {
      "text/html": [
       "<div>\n",
       "<style scoped>\n",
       "    .dataframe tbody tr th:only-of-type {\n",
       "        vertical-align: middle;\n",
       "    }\n",
       "\n",
       "    .dataframe tbody tr th {\n",
       "        vertical-align: top;\n",
       "    }\n",
       "\n",
       "    .dataframe thead th {\n",
       "        text-align: right;\n",
       "    }\n",
       "</style>\n",
       "<table border=\"1\" class=\"dataframe\">\n",
       "  <thead>\n",
       "    <tr style=\"text-align: right;\">\n",
       "      <th></th>\n",
       "      <th>Canceled</th>\n",
       "      <th>Month</th>\n",
       "      <th>UniqueCarrier</th>\n",
       "      <th>SchedElapsedTime</th>\n",
       "      <th>Distance</th>\n",
       "      <th>Hour</th>\n",
       "    </tr>\n",
       "  </thead>\n",
       "  <tbody>\n",
       "    <tr>\n",
       "      <th>4122</th>\n",
       "      <td>0.0</td>\n",
       "      <td>11</td>\n",
       "      <td>AA</td>\n",
       "      <td>175.0</td>\n",
       "      <td>929.0</td>\n",
       "      <td>14</td>\n",
       "    </tr>\n",
       "  </tbody>\n",
       "</table>\n",
       "</div>"
      ],
      "text/plain": [
       "      Canceled Month UniqueCarrier  SchedElapsedTime  Distance  Hour\n",
       "4122       0.0    11            AA             175.0     929.0    14"
      ]
     },
     "execution_count": 49,
     "metadata": {},
     "output_type": "execute_result"
    }
   ],
   "source": [
    "df.sample()"
   ]
  },
  {
   "cell_type": "markdown",
   "metadata": {},
   "source": [
    "### Feature Selection"
   ]
  },
  {
   "cell_type": "code",
   "execution_count": 50,
   "metadata": {},
   "outputs": [],
   "source": [
    "# function for creating a feature importance dataframe\n",
    "def imp_df(column_names, importances):\n",
    "    df = pd.DataFrame({'feature': column_names,\n",
    "                       'feature_importance': importances}) \\\n",
    "           .sort_values('feature_importance', ascending = False) \\\n",
    "           .reset_index(drop = True)\n",
    "    return df\n",
    "\n",
    "# plotting a feature importance dataframe (horizontal barchart)\n",
    "def var_imp_plot(imp_df, title):\n",
    "    imp_df.columns = ['feature', 'feature_importance']\n",
    "    sns.barplot(x = 'feature_importance', y = 'feature', data = imp_df, orient = 'h', color = 'royalblue') \\\n",
    "       .set_title(title, fontsize = 20)"
   ]
  },
  {
   "cell_type": "code",
   "execution_count": 51,
   "metadata": {},
   "outputs": [],
   "source": [
    "X = df.drop('Canceled', axis = 1)\n",
    "y = df['Canceled']\n",
    "\n",
    "X = pd.get_dummies(X)"
   ]
  },
  {
   "cell_type": "code",
   "execution_count": 52,
   "metadata": {},
   "outputs": [
    {
     "data": {
      "text/plain": [
       "(5979, 18)"
      ]
     },
     "execution_count": 52,
     "metadata": {},
     "output_type": "execute_result"
    }
   ],
   "source": [
    "X.shape"
   ]
  },
  {
   "cell_type": "code",
   "execution_count": 55,
   "metadata": {},
   "outputs": [],
   "source": [
    "X_train, X_valid, y_train, y_valid = train_test_split(X, y, test_size = 0.2, random_state = 42)\n"
   ]
  },
  {
   "cell_type": "code",
   "execution_count": 56,
   "metadata": {},
   "outputs": [
    {
     "name": "stdout",
     "output_type": "stream",
     "text": [
      "R^2 Training Score: 0.99 \n",
      "OOB Score: 0.81 \n",
      "R^2 Validation Score: 0.80\n"
     ]
    }
   ],
   "source": [
    "# Benchmark Model\n",
    "from sklearn.ensemble import RandomForestClassifier\n",
    "\n",
    "rf = RandomForestClassifier(n_estimators = 100,\n",
    "                           n_jobs = -1,\n",
    "                           oob_score = True,\n",
    "                           bootstrap = True,\n",
    "                           random_state = 42)\n",
    "rf.fit(X_train, y_train)\n",
    "\n",
    "print('R^2 Training Score: {:.2f} \\nOOB Score: {:.2f} \\nR^2 Validation Score: {:.2f}'.format(rf.score(X_train, y_train), \n",
    "                                                                                    rf.oob_score_,\n",
    "                                                                                    rf.score(X_valid, y_valid)))"
   ]
  },
  {
   "cell_type": "code",
   "execution_count": 57,
   "metadata": {},
   "outputs": [],
   "source": [
    "from sklearn.base import clone \n",
    "\n",
    "# negative importance, means that removing a given feature from the model actually improves the performance. \n",
    "\n",
    "def drop_col_feat_imp(model, X_train, y_train, random_state = 42):\n",
    "    \n",
    "    # clone the model to have the exact same specification as the one initially trained\n",
    "    model_clone = clone(model)\n",
    "    # set random_state for comparability\n",
    "    model_clone.random_state = random_state\n",
    "    # training and scoring the benchmark model\n",
    "    model_clone.fit(X_train, y_train)\n",
    "    benchmark_score = model_clone.score(X_train, y_train)\n",
    "    # list for storing feature importances\n",
    "    importances = []\n",
    "    \n",
    "    # iterating over all columns and storing feature importance (difference between benchmark and new model)\n",
    "    for col in X_train.columns:\n",
    "        model_clone = clone(model)\n",
    "        model_clone.random_state = random_state\n",
    "        model_clone.fit(X_train.drop(col, axis = 1), y_train)\n",
    "        drop_col_score = model_clone.score(X_train.drop(col, axis = 1), y_train)\n",
    "        importances.append(benchmark_score - drop_col_score)\n",
    "    \n",
    "    importances_df = imp_df(X_train.columns, importances)\n",
    "    return importances_df\n",
    "\n",
    "drop_imp = drop_col_feat_imp(rf, X_train, y_train)\n",
    "# var_imp_plot(drop_imp, 'Drop Column feature importance')   "
   ]
  },
  {
   "cell_type": "code",
   "execution_count": 58,
   "metadata": {},
   "outputs": [
    {
     "data": {
      "text/html": [
       "<div>\n",
       "<style scoped>\n",
       "    .dataframe tbody tr th:only-of-type {\n",
       "        vertical-align: middle;\n",
       "    }\n",
       "\n",
       "    .dataframe tbody tr th {\n",
       "        vertical-align: top;\n",
       "    }\n",
       "\n",
       "    .dataframe thead th {\n",
       "        text-align: right;\n",
       "    }\n",
       "</style>\n",
       "<table border=\"1\" class=\"dataframe\">\n",
       "  <thead>\n",
       "    <tr style=\"text-align: right;\">\n",
       "      <th></th>\n",
       "      <th>feature</th>\n",
       "      <th>feature_importance</th>\n",
       "    </tr>\n",
       "  </thead>\n",
       "  <tbody>\n",
       "    <tr>\n",
       "      <th>0</th>\n",
       "      <td>Hour</td>\n",
       "      <td>0.018608</td>\n",
       "    </tr>\n",
       "    <tr>\n",
       "      <th>1</th>\n",
       "      <td>Distance</td>\n",
       "      <td>0.013172</td>\n",
       "    </tr>\n",
       "    <tr>\n",
       "      <th>2</th>\n",
       "      <td>SchedElapsedTime</td>\n",
       "      <td>0.006481</td>\n",
       "    </tr>\n",
       "    <tr>\n",
       "      <th>3</th>\n",
       "      <td>UniqueCarrier_DL</td>\n",
       "      <td>0.000209</td>\n",
       "    </tr>\n",
       "    <tr>\n",
       "      <th>4</th>\n",
       "      <td>UniqueCarrier_AA</td>\n",
       "      <td>0.000209</td>\n",
       "    </tr>\n",
       "    <tr>\n",
       "      <th>5</th>\n",
       "      <td>Month_9</td>\n",
       "      <td>0.000209</td>\n",
       "    </tr>\n",
       "    <tr>\n",
       "      <th>6</th>\n",
       "      <td>Month_7</td>\n",
       "      <td>0.000209</td>\n",
       "    </tr>\n",
       "    <tr>\n",
       "      <th>7</th>\n",
       "      <td>Month_6</td>\n",
       "      <td>0.000209</td>\n",
       "    </tr>\n",
       "    <tr>\n",
       "      <th>8</th>\n",
       "      <td>Month_5</td>\n",
       "      <td>0.000209</td>\n",
       "    </tr>\n",
       "    <tr>\n",
       "      <th>9</th>\n",
       "      <td>UniqueCarrier_UA</td>\n",
       "      <td>0.000209</td>\n",
       "    </tr>\n",
       "    <tr>\n",
       "      <th>10</th>\n",
       "      <td>Month_3</td>\n",
       "      <td>0.000209</td>\n",
       "    </tr>\n",
       "    <tr>\n",
       "      <th>11</th>\n",
       "      <td>Month_12</td>\n",
       "      <td>0.000209</td>\n",
       "    </tr>\n",
       "    <tr>\n",
       "      <th>12</th>\n",
       "      <td>Month_11</td>\n",
       "      <td>0.000209</td>\n",
       "    </tr>\n",
       "    <tr>\n",
       "      <th>13</th>\n",
       "      <td>Month_10</td>\n",
       "      <td>0.000209</td>\n",
       "    </tr>\n",
       "    <tr>\n",
       "      <th>14</th>\n",
       "      <td>Month_1</td>\n",
       "      <td>0.000209</td>\n",
       "    </tr>\n",
       "    <tr>\n",
       "      <th>15</th>\n",
       "      <td>Month_2</td>\n",
       "      <td>0.000000</td>\n",
       "    </tr>\n",
       "    <tr>\n",
       "      <th>16</th>\n",
       "      <td>Month_8</td>\n",
       "      <td>0.000000</td>\n",
       "    </tr>\n",
       "    <tr>\n",
       "      <th>17</th>\n",
       "      <td>Month_4</td>\n",
       "      <td>0.000000</td>\n",
       "    </tr>\n",
       "  </tbody>\n",
       "</table>\n",
       "</div>"
      ],
      "text/plain": [
       "             feature  feature_importance\n",
       "0               Hour            0.018608\n",
       "1           Distance            0.013172\n",
       "2   SchedElapsedTime            0.006481\n",
       "3   UniqueCarrier_DL            0.000209\n",
       "4   UniqueCarrier_AA            0.000209\n",
       "5            Month_9            0.000209\n",
       "6            Month_7            0.000209\n",
       "7            Month_6            0.000209\n",
       "8            Month_5            0.000209\n",
       "9   UniqueCarrier_UA            0.000209\n",
       "10           Month_3            0.000209\n",
       "11          Month_12            0.000209\n",
       "12          Month_11            0.000209\n",
       "13          Month_10            0.000209\n",
       "14           Month_1            0.000209\n",
       "15           Month_2            0.000000\n",
       "16           Month_8            0.000000\n",
       "17           Month_4            0.000000"
      ]
     },
     "execution_count": 58,
     "metadata": {},
     "output_type": "execute_result"
    }
   ],
   "source": [
    "drop_imp"
   ]
  },
  {
   "cell_type": "markdown",
   "metadata": {},
   "source": [
    "### DROP UNIMPORTANT FEATURES"
   ]
  },
  {
   "cell_type": "code",
   "execution_count": 59,
   "metadata": {},
   "outputs": [],
   "source": [
    "# Create correlation matrix\n",
    "corr_matrix = X.corr().abs()\n",
    "\n",
    "# Select upper triangle of correlation matrix\n",
    "upper = corr_matrix.where(np.triu(np.ones(corr_matrix.shape), k=1).astype(np.bool))\n",
    "\n",
    "# Find index of feature columns with correlation greater than 0.95\n",
    "to_drop = [column for column in upper.columns if any(upper[column] > 0.6)]"
   ]
  },
  {
   "cell_type": "code",
   "execution_count": 61,
   "metadata": {},
   "outputs": [],
   "source": [
    "X = X.drop(X[to_drop], axis=1)\n"
   ]
  },
  {
   "cell_type": "code",
   "execution_count": 62,
   "metadata": {
    "scrolled": true
   },
   "outputs": [
    {
     "data": {
      "text/plain": [
       "(5979, 17)"
      ]
     },
     "execution_count": 62,
     "metadata": {},
     "output_type": "execute_result"
    }
   ],
   "source": [
    "X.shape"
   ]
  },
  {
   "cell_type": "code",
   "execution_count": 63,
   "metadata": {},
   "outputs": [
    {
     "data": {
      "text/plain": [
       "['Distance']"
      ]
     },
     "execution_count": 63,
     "metadata": {},
     "output_type": "execute_result"
    }
   ],
   "source": [
    "to_drop"
   ]
  },
  {
   "cell_type": "markdown",
   "metadata": {},
   "source": [
    "---------------"
   ]
  },
  {
   "cell_type": "markdown",
   "metadata": {},
   "source": [
    "### Modeling"
   ]
  },
  {
   "cell_type": "code",
   "execution_count": 64,
   "metadata": {},
   "outputs": [
    {
     "name": "stdout",
     "output_type": "stream",
     "text": [
      "Original data shapes: ((4783, 17), (1196, 17))\n"
     ]
    }
   ],
   "source": [
    "# Splitting the data to train & test on a 80:20 split\n",
    "\n",
    "X_train, X_test, y_train, y_test = train_test_split(X, y, test_size = 0.2, random_state = 123)\n",
    "print(f\"Original data shapes: {X_train.shape, X_test.shape}\")\n",
    "\n"
   ]
  },
  {
   "cell_type": "markdown",
   "metadata": {},
   "source": [
    "#### Logistic Regression\n"
   ]
  },
  {
   "cell_type": "markdown",
   "metadata": {},
   "source": [
    "\n",
    "After using a ensemble & boosting model, now I'll be building a logistic regression model. Logistic regression is intrinsically simple, very fast and it has low variance and so is less prone to over-fitting."
   ]
  },
  {
   "cell_type": "code",
   "execution_count": 65,
   "metadata": {},
   "outputs": [
    {
     "name": "stdout",
     "output_type": "stream",
     "text": [
      "Best Penalty: l1\n",
      "Best C: 100\n"
     ]
    }
   ],
   "source": [
    "# Grid search for Logistic regression\n",
    "lr = LogisticRegression()\n",
    "grid_values = {'penalty': ['l1', 'l2'], 'C': [0.0001, 0.001, 0.01, 0.1, 1, 10, 100, 1000, 10000]}\n",
    "grid_lr = GridSearchCV(lr, param_grid = grid_values, scoring = 'roc_auc')\n",
    "\n",
    "best_model = grid_lr.fit(X_train, y_train)\n",
    "\n",
    "print('Best Penalty:', best_model.best_estimator_.get_params()['penalty'])\n",
    "print('Best C:', best_model.best_estimator_.get_params()['C'])"
   ]
  },
  {
   "cell_type": "code",
   "execution_count": 66,
   "metadata": {},
   "outputs": [
    {
     "name": "stdout",
     "output_type": "stream",
     "text": [
      "\n",
      "========================================================\n",
      " Results from Logistic Regression \n",
      "========================================================\n",
      "\n",
      "\n",
      "Logistic Regression model's average CV score: 0.666\n",
      "\n",
      "\n",
      "              precision    recall  f1-score   support\n",
      "\n",
      "         0.0       0.90      0.57      0.70       985\n",
      "         1.0       0.26      0.70      0.38       211\n",
      "\n",
      "   micro avg       0.59      0.59      0.59      1196\n",
      "   macro avg       0.58      0.64      0.54      1196\n",
      "weighted avg       0.79      0.59      0.64      1196\n",
      "\n",
      "\n",
      "========================================================\n",
      "\n",
      "\n",
      "Logistic Regression's Accuracy Score is: 0.5936454849498328\n",
      "Logistic Regression's Precision Score is 0.7862893123019522\n",
      "\n",
      "\n"
     ]
    }
   ],
   "source": [
    "logistic = LogisticRegression(penalty = 'l1',\n",
    "                              class_weight = 'balanced', \n",
    "                              C = 100,\n",
    "                              random_state = 123, \n",
    "                              fit_intercept=True)\n",
    "\n",
    "pip_baseline = make_pipeline(RobustScaler(), logistic)\n",
    "\n",
    "\n",
    "logistic.fit(X_train,y_train)\n",
    "\n",
    "logistic_predictions = logistic.predict(X_test)\n",
    "logistic_prob = logistic.predict_proba(X_test)\n",
    "\n",
    "scores_log = cross_val_score(logistic,\n",
    "                         X_train, y_train,\n",
    "                         scoring=\"roc_auc\", cv=10)\n",
    "\n",
    "\n",
    "print(\"\\n========================================================\")\n",
    "print(\" Results from Logistic Regression \" )\n",
    "print(\"========================================================\")  \n",
    "print(\"\\n\")\n",
    "print(f\"Logistic Regression model's average CV score: {scores_log.mean():.3f}\")\n",
    "print(\"\\n\")\n",
    "print(classification_report(y_test, logistic_predictions))\n",
    "print(\"\\n========================================================\")\n",
    "print(\"\\n\")\n",
    "print(f\"Logistic Regression's Accuracy Score is: {accuracy_score(y_test, logistic_predictions)}\")\n",
    "print(f\"Logistic Regression's Precision Score is {precision_score(y_test, logistic_predictions, average='weighted')}\")\n",
    "print(\"\\n\")\n",
    "\n"
   ]
  },
  {
   "cell_type": "code",
   "execution_count": 67,
   "metadata": {
    "code_folding": [
     10
    ]
   },
   "outputs": [
    {
     "name": "stdout",
     "output_type": "stream",
     "text": [
      "AUC: 0.69\n"
     ]
    },
    {
     "data": {
      "image/png": "[encoded data removed]",
      "text/plain": [
       "<Figure size 432x288 with 1 Axes>"
      ]
     },
     "metadata": {},
     "output_type": "display_data"
    }
   ],
   "source": [
    "from sklearn.metrics import roc_curve  \n",
    "from sklearn.metrics import roc_auc_score  \n",
    "\n",
    "probs = logistic_prob[:, 1]\n",
    "\n",
    "auc = roc_auc_score(y_test, probs)  \n",
    "print('AUC: %.2f' % auc) \n",
    "\n",
    "fpr, tpr, thresholds = roc_curve(y_test, probs)  \n",
    "\n",
    "def plot_roc_curve(fpr, tpr):  \n",
    "    plt.plot(fpr, tpr, color='orange', label='ROC')\n",
    "    plt.plot([0, 1], [0, 1], color='darkblue', linestyle='--')\n",
    "    plt.xlabel('False Positive Rate')\n",
    "    plt.ylabel('True Positive Rate')\n",
    "    plt.title('Receiver Operating Characteristic (ROC) Curve')\n",
    "    plt.legend()\n",
    "    plt.show()\n",
    "    \n",
    "    \n",
    "plot_roc_curve(fpr, tpr)  \n"
   ]
  },
  {
   "cell_type": "code",
   "execution_count": 68,
   "metadata": {
    "scrolled": false
   },
   "outputs": [
    {
     "name": "stdout",
     "output_type": "stream",
     "text": [
      "Average precision-recall score: 0.29\n"
     ]
    },
    {
     "data": {
      "text/plain": [
       "Text(0.5, 1.0, '2-class Precision-Recall curve: AP=0.29')"
      ]
     },
     "execution_count": 68,
     "metadata": {},
     "output_type": "execute_result"
    },
    {
     "data": {
      "image/png": "[encoded data removed]",
      "text/plain": [
       "<Figure size 432x288 with 1 Axes>"
      ]
     },
     "metadata": {},
     "output_type": "display_data"
    }
   ],
   "source": [
    "from sklearn.metrics import precision_recall_curve\n",
    "import matplotlib.pyplot as plt\n",
    "from inspect import signature\n",
    "from sklearn.metrics import average_precision_score\n",
    "\n",
    "\n",
    "\n",
    "\n",
    "y_score = logistic.decision_function(X_test)\n",
    "average_precision = average_precision_score(y_test, y_score)\n",
    "\n",
    "print('Average precision-recall score: {0:0.2f}'.format(\n",
    "      average_precision))\n",
    "\n",
    "precision, recall, _ = precision_recall_curve(y_test, y_score)\n",
    "\n",
    "# In matplotlib < 1.5, plt.fill_between does not have a 'step' argument\n",
    "step_kwargs = ({'step': 'post'}\n",
    "               if 'step' in signature(plt.fill_between).parameters\n",
    "               else {})\n",
    "\n",
    "plt.step(recall, precision, color='b', alpha=0.2,\n",
    "         where='post')\n",
    "\n",
    "plt.fill_between(recall, precision, alpha=0.2, color='b', **step_kwargs)\n",
    "\n",
    "plt.xlabel('Recall')\n",
    "plt.ylabel('Precision')\n",
    "plt.ylim([0.0, 1.05])\n",
    "plt.xlim([0.0, 1.0])\n",
    "plt.title('2-class Precision-Recall curve: AP={0:0.2f}'.format(\n",
    "          average_precision))"
   ]
  },
  {
   "cell_type": "code",
   "execution_count": 69,
   "metadata": {},
   "outputs": [
    {
     "data": {
      "text/plain": [
       "<Figure size 1152x576 with 0 Axes>"
      ]
     },
     "metadata": {},
     "output_type": "display_data"
    },
    {
     "data": {
      "image/png": "[encoded data removed]",
      "text/plain": [
       "<Figure size 288x288 with 1 Axes>"
      ]
     },
     "metadata": {},
     "output_type": "display_data"
    }
   ],
   "source": [
    "# Logistic Reg. Confusion Matrix\n",
    "y_pred = logistic_predictions\n",
    "conf_mat = confusion_matrix(y_test, y_pred)\n",
    "plt.figure(figsize=(16, 8))\n",
    "plt.matshow(conf_mat, cmap = plt.cm.Reds, alpha=0.2)\n",
    "for i in range(2):\n",
    "    for j in range(2):\n",
    "        plt.text(x = j, y = i, s = conf_mat[i, j], ha=\"center\", va=\"center\")\n",
    "plt.title(\"Confusion matrix\", y=1.1, fontdict={\"fontsize\": 14})\n",
    "plt.xlabel(\"Predicted\", fontdict={\"fontsize\": 12})\n",
    "plt.ylabel(\"Actual\", fontdict={\"fontsize\": 12});"
   ]
  },
  {
   "cell_type": "markdown",
   "metadata": {},
   "source": [
    "#### Random Forest"
   ]
  },
  {
   "cell_type": "markdown",
   "metadata": {},
   "source": [
    "Random Forest is known to perform well with binary classification problems.  \n",
    "  \n",
    "In learning extremely imbalanced data, there is a significant probability that a bootstrap sample\n",
    "contains few or even none of the minority class, resulting in a tree with poor performance for predicting\n",
    "the minority class.  \n",
    "\n",
    "Balanced Random Forest ensembles trees induced from balanced down-sampled data"
   ]
  },
  {
   "cell_type": "code",
   "execution_count": 70,
   "metadata": {},
   "outputs": [],
   "source": [
    "# # Grid Search \n",
    "# # Computationally expensive.. Using optimized parameters.\n",
    "\n",
    "# rfc = RandomForestClassifier(random_state=123)\n",
    "# rfc.fit(X_train,y_train)\n",
    "\n",
    "# param_grid = { \n",
    "#     'n_estimators': [200, 500, 1000],\n",
    "#     'max_depth' : [1,2,3],\n",
    "#     'criterion' :['gini', 'entropy'],\n",
    "#     'max_features' :[0.50, 1, 2, 3]\n",
    "# }\n",
    "\n",
    "# scorers = {\n",
    "#     'precision_score': make_scorer(precision_score),\n",
    "#     'recall_score': make_scorer(recall_score),\n",
    "#     'accuracy_score': make_scorer(accuracy_score)\n",
    "# }\n",
    "\n",
    "\n",
    "# CV_rfc = GridSearchCV(estimator = rfc, scoring=scorers, param_grid = param_grid, cv = 10, refit = False)\n",
    "\n",
    "# CV_rfc.fit(X_train, y_train)\n",
    "# CV_rfc.get_params()\n"
   ]
  },
  {
   "cell_type": "code",
   "execution_count": 71,
   "metadata": {
    "scrolled": false
   },
   "outputs": [
    {
     "name": "stdout",
     "output_type": "stream",
     "text": [
      "\n",
      "========================================================\n",
      " Results from Balanced RF Model\n",
      "========================================================\n",
      "\n",
      "\n",
      "Balanced RF Model's CV Score: 0.663\n",
      "\n",
      "\n",
      "              precision    recall  f1-score   support\n",
      "\n",
      "         0.0       0.89      0.62      0.73       985\n",
      "         1.0       0.26      0.63      0.37       211\n",
      "\n",
      "   micro avg       0.62      0.62      0.62      1196\n",
      "   macro avg       0.57      0.62      0.55      1196\n",
      "weighted avg       0.78      0.62      0.66      1196\n",
      "\n",
      "\n",
      "========================================================\n",
      "\n",
      "\n",
      "RF Model's Accuracy Score is: 0.6195652173913043\n",
      "RF Model's Precision Score is 0.7759434829832554\n",
      "\n",
      "\n"
     ]
    }
   ],
   "source": [
    "# Random Forest Classifier Model\n",
    "\n",
    "brf = BalancedRandomForestClassifier(n_estimators = 1000,\n",
    "                                     random_state = 123,\n",
    "                                     criterion = 'gini',\n",
    "                                     max_features = 'auto',\n",
    "                                     max_depth = None,\n",
    "                                     class_weight = 'balanced_subsample'\n",
    "                                    )\n",
    "\n",
    "pip_baseline = make_pipeline(RobustScaler(), brf)\n",
    "brf_scores = cross_val_score(pip_baseline,\n",
    "                         X_train, y_train,\n",
    "                         scoring = \"roc_auc\", cv = 10)\n",
    "\n",
    "brf.fit(X_train, y_train)\n",
    "y_pred_brf = brf.predict(X_test)\n",
    "\n",
    "brf_probs = brf.predict_proba(X_test)  \n",
    "\n",
    "print(\"\\n========================================================\")\n",
    "print(\" Results from Balanced RF Model\" )\n",
    "print(\"========================================================\")\n",
    "print(\"\\n\")\n",
    "print(f\"Balanced RF Model's CV Score: {brf_scores.mean():.3f}\")\n",
    "print(\"\\n\")\n",
    "print(classification_report(y_test, y_pred_brf))\n",
    "print(\"\\n========================================================\")\n",
    "\n",
    "print(\"\\n\")\n",
    "print(f\"RF Model's Accuracy Score is: {accuracy_score(y_test, y_pred_brf)}\")\n",
    "print(f\"RF Model's Precision Score is {precision_score(y_test, y_pred_brf, average='weighted')}\")\n",
    "print(\"\\n\")\n"
   ]
  },
  {
   "cell_type": "code",
   "execution_count": 72,
   "metadata": {},
   "outputs": [
    {
     "name": "stdout",
     "output_type": "stream",
     "text": [
      "AUC: 0.66\n"
     ]
    },
    {
     "data": {
      "image/png": "[encoded data removed]",
      "text/plain": [
       "<Figure size 432x288 with 1 Axes>"
      ]
     },
     "metadata": {},
     "output_type": "display_data"
    }
   ],
   "source": [
    "brf_probs = brf_probs[:, 1]  \n",
    "\n",
    "auc = roc_auc_score(y_test, brf_probs)  \n",
    "print('AUC: %.2f' % auc) \n",
    "\n",
    "fpr, tpr, thresholds = roc_curve(y_test, brf_probs)      \n",
    "    \n",
    "plot_roc_curve(fpr, tpr)  \n"
   ]
  },
  {
   "cell_type": "code",
   "execution_count": 73,
   "metadata": {},
   "outputs": [
    {
     "data": {
      "text/plain": [
       "<Figure size 576x288 with 0 Axes>"
      ]
     },
     "metadata": {},
     "output_type": "display_data"
    },
    {
     "data": {
      "image/png": "[encoded data removed]",
      "text/plain": [
       "<Figure size 288x288 with 1 Axes>"
      ]
     },
     "metadata": {},
     "output_type": "display_data"
    }
   ],
   "source": [
    "# Random Forest Confusion Matrix\n",
    "\n",
    "conf_mat = confusion_matrix(y_test, y_pred_brf)\n",
    "plt.figure(figsize=(8, 4))\n",
    "plt.matshow(conf_mat, cmap = plt.cm.Reds, alpha=0.2)\n",
    "for i in range(2):\n",
    "    for j in range(2):\n",
    "        plt.text(x = j, y = i, s = conf_mat[i, j], ha=\"center\", va=\"center\")\n",
    "plt.title(\"Confusion matrix\", y=1.1, fontdict={\"fontsize\": 12})\n",
    "plt.xlabel(\"Predicted\", fontdict={\"fontsize\": 12})\n",
    "plt.ylabel(\"Actual\", fontdict={\"fontsize\": 12});"
   ]
  },
  {
   "cell_type": "code",
   "execution_count": 74,
   "metadata": {},
   "outputs": [
    {
     "name": "stdout",
     "output_type": "stream",
     "text": [
      "\n",
      "========================================================\n",
      "Feature Importance\n",
      "========================================================\n",
      "\n",
      "\n",
      "SchedElapsedTime    0.419392\n",
      "Hour                0.287737\n",
      "Month_10            0.036732\n",
      "UniqueCarrier_DL    0.025549\n",
      "Month_4             0.023890\n",
      "UniqueCarrier_AA    0.023862\n",
      "Month_9             0.019422\n",
      "UniqueCarrier_UA    0.019392\n",
      "Month_11            0.018876\n",
      "Month_2             0.018702\n",
      "Month_1             0.018359\n",
      "Month_3             0.017751\n",
      "Month_7             0.016160\n",
      "Month_5             0.014438\n",
      "Month_12            0.014262\n",
      "Month_8             0.012861\n",
      "Month_6             0.012615\n",
      "dtype: float64\n"
     ]
    }
   ],
   "source": [
    "# Plot features importance\n",
    "\n",
    "importances = brf.feature_importances_\n",
    "indices = np.argsort(brf.feature_importances_)[::-1]\n",
    "# plt.figure(figsize = (14, 10))\n",
    "# plt.barh(df_merged.columns[df_merged.columns != \"WasTheLoanApproved\"][indices], importances[indices], alpha=0.5, )\n",
    "# plt.title('RF Feature Importance')\n",
    "\n",
    "feat_imp = pd.Series(importances[indices], X.columns[X.columns != \"Canceled\"][indices])\n",
    "\n",
    "print(\"\\n========================================================\")\n",
    "print(\"Feature Importance\" )\n",
    "print(\"========================================================\")\n",
    "print(\"\\n\")\n",
    "\n",
    "\n",
    "print(feat_imp)"
   ]
  },
  {
   "cell_type": "markdown",
   "metadata": {},
   "source": [
    "### Tester Function"
   ]
  },
  {
   "cell_type": "code",
   "execution_count": null,
   "metadata": {},
   "outputs": [],
   "source": [
    "# This is a simple function that let's a user feed a flight data and get cancelation prediction\n",
    "\n",
    "import pickle\n",
    "pickled_model = pickle.dumps(model)"
   ]
  },
  {
   "cell_type": "code",
   "execution_count": null,
   "metadata": {},
   "outputs": [],
   "source": [
    "def cancel_predict(df):\n",
    "    # Load pickled logistic model\n",
    "    clf = pickle.loads(pickled_model)\n",
    "\n",
    "    # Predictions\n",
    "    y_pred = clf.predict(df)    \n",
    "    return y_pred"
   ]
  },
  {
   "cell_type": "code",
   "execution_count": null,
   "metadata": {},
   "outputs": [],
   "source": [
    "cancel_predict(S_test)"
   ]
  },
  {
   "cell_type": "code",
   "execution_count": null,
   "metadata": {},
   "outputs": [],
   "source": []
  },
  {
   "cell_type": "code",
   "execution_count": null,
   "metadata": {},
   "outputs": [],
   "source": []
  },
  {
   "cell_type": "code",
   "execution_count": null,
   "metadata": {},
   "outputs": [],
   "source": []
  }
 ],
 "metadata": {
  "kernelspec": {
   "display_name": "Python 3",
   "language": "python",
   "name": "python3"
  },
  "language_info": {
   "codemirror_mode": {
    "name": "ipython",
    "version": 3
   },
   "file_extension": ".py",
   "mimetype": "text/x-python",
   "name": "python",
   "nbconvert_exporter": "python",
   "pygments_lexer": "ipython3",
   "version": "3.6.6"
  }
 },
 "nbformat": 4,
 "nbformat_minor": 2
}
